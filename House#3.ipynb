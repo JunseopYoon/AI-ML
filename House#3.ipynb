{
 "cells": [
  {
   "cell_type": "code",
   "execution_count": 1,
   "id": "35a33946",
   "metadata": {},
   "outputs": [],
   "source": [
    "from sklearn.linear_model import LogisticRegression, RidgeCV, LassoCV\n",
    "from sklearn.svm import SVC, LinearSVC\n",
    "from sklearn.model_selection import cross_val_score, train_test_split, KFold\n",
    "from sklearn.tree import DecisionTreeRegressor\n",
    "from sklearn.model_selection import GridSearchCV\n",
    "from sklearn.svm import LinearSVR\n",
    "from sklearn.svm import SVR\n",
    "from scipy.stats import mode, skew\n",
    "\n",
    "from sklearn.ensemble import RandomForestRegressor, GradientBoostingRegressor\n",
    "import xgboost as xgb\n",
    "import lightgbm as lgb"
   ]
  },
  {
   "cell_type": "code",
   "execution_count": 2,
   "id": "bae706aa",
   "metadata": {},
   "outputs": [],
   "source": [
    "import matplotlib.pyplot as plt\n",
    "import warnings\n",
    "import pandas as pd\n",
    "import numpy as np\n",
    "def ignore_warn(*args, **kwargs): pass\n",
    "warnings.warn = ignore_warn #ignore annoying warning (from sklearn and seaborn)\n",
    "\n",
    "%matplotlib inline"
   ]
  },
  {
   "cell_type": "code",
   "execution_count": 3,
   "id": "50d972f5",
   "metadata": {},
   "outputs": [],
   "source": [
    "train = pd.read_csv('train.csv')\n",
    "test = pd.read_csv('test.csv')\n",
    "\n",
    "train = train.drop(train[train['Id'] == 1299].index)\n",
    "train = train.drop(train[train['Id'] == 524].index)\n",
    "\n",
    "train_miss_index = train.isna().sum().sort_values(ascending=False).head(6).index\n",
    "train = train.drop(train_miss_index, axis=1)\n",
    "test = test.drop(train_miss_index, axis=1)\n",
    "train = train.dropna(subset=['Electrical'], axis=0) # Electrical feature는 결측치가 있는 데이터만 삭제한다\n",
    "\n",
    "train_miss_index2 = train.isna().sum().sort_values(ascending=False).head(12).index\n",
    "train['GarageYrBlt'] = train['GarageYrBlt'].fillna(train['GarageYrBlt'].mean())\n",
    "train['MasVnrArea'] = train['MasVnrArea'].fillna(train['MasVnrArea'].mean())\n",
    "test['GarageYrBlt'] = test['GarageYrBlt'].fillna(test['GarageYrBlt'].mean())\n",
    "test['MasVnrArea'] = test['MasVnrArea'].fillna(test['MasVnrArea'].mean())\n",
    "\n",
    "train['MasVnrType'] = train['MasVnrType'].fillna('None')\n",
    "test['MasVnrType'] = test['MasVnrType'].fillna('None')\n",
    "\n",
    "train_miss_index3 = train.isna().sum().sort_values(ascending=False).head(9).index\n",
    "\n",
    "train[train_miss_index3] = train[train_miss_index3].fillna('None')\n",
    "\n",
    "test_miss_index = test.isna().sum().sort_values(ascending=False).head(9).index\n",
    "mode_index = mode(test[test_miss_index])\n",
    "for i in range(9):\n",
    "    test[test_miss_index[i]] = test[test_miss_index[i]].fillna((mode_index[0][0])[i]) # 이 부분에서 막힘..\n",
    "    \n",
    "test_miss_index2 = test.isna().sum().sort_values(ascending=False).head(15).index # 남은 결측치\n",
    "\n",
    "test['GarageArea'] = test['GarageArea'].fillna(test['GarageArea'].mean())\n",
    "\n",
    "test_miss_index3 = test.isna().sum().sort_values(ascending=False).head(14).index # 남은 결측치\n",
    "mode_index2 = mode(test[test_miss_index3])\n",
    "\n",
    "for i in range(14):\n",
    "    test[test_miss_index3[i]] = test[test_miss_index3[i]].fillna((mode_index2[0][0])[i])\n",
    "\n",
    "train.loc[train['LowQualFinSF'] > 0, 'LowQualFinSF'] = 1\n",
    "test.loc[test['LowQualFinSF'] > 0, 'LowQualFinSF'] = 1\n",
    "\n",
    "train.loc[train['WoodDeckSF'] > 0, 'WoodDeckSF'] = 1\n",
    "test.loc[test['WoodDeckSF'] > 0, 'WoodDeckSF'] = 1\n",
    "\n",
    "train.loc[train['OpenPorchSF'] > 0, 'OpenPorchSF'] = 1\n",
    "test.loc[test['OpenPorchSF'] > 0, 'OpenPorchSF'] = 1\n",
    "\n",
    "train.loc[train['EnclosedPorch'] > 0, 'EnclosedPorch'] = 1\n",
    "test.loc[test['EnclosedPorch'] > 0, 'EnclosedPorch'] = 1\n",
    "\n",
    "train.loc[train['3SsnPorch'] > 0, '3SsnPorch'] = 1\n",
    "test.loc[test['3SsnPorch'] > 0, '3SsnPorch'] = 1\n",
    "\n",
    "train.loc[train['ScreenPorch'] > 0, 'ScreenPorch'] = 1\n",
    "test.loc[test['ScreenPorch'] > 0, 'ScreenPorch'] = 1\n",
    "\n",
    "train.loc[train['PoolArea'] > 0, 'PoolArea'] = 1\n",
    "test.loc[test['PoolArea'] > 0, 'PoolArea'] = 1\n",
    "\n",
    "train.loc[train['MiscVal'] > 0, 'MiscVal'] = 1\n",
    "test.loc[test['MiscVal'] > 0, 'MiscVal'] = 1\n",
    "\n",
    "train['MSSubClass'] = train['MSSubClass'].astype('category').cat.codes\n",
    "test['MSSubClass'] = test['MSSubClass'].astype('category').cat.codes\n",
    "\n",
    "train['OverallQual'] = train['OverallQual'].astype('category').cat.codes\n",
    "test['OverallQual'] = test['OverallQual'].astype('category').cat.codes\n",
    "\n",
    "train['OverallCond'] = train['OverallCond'].astype('category').cat.codes\n",
    "test['OverallCond'] = test['OverallCond'].astype('category').cat.codes \n",
    "\n",
    "train['MoSold'] = train['MoSold'].astype('category').cat.codes\n",
    "test['MoSold'] = test['MoSold'].astype('category').cat.codes \n",
    " \n",
    "train['YrSold'] = train['YrSold'].astype('category').cat.codes\n",
    "test['YrSold'] = test['YrSold'].astype('category').cat.codes \n",
    "\n",
    "train['YearBuilt'] = train['YearBuilt'].astype('category').cat.codes\n",
    "test['YearBuilt'] = test['YearBuilt'].astype('category').cat.codes \n",
    "\n",
    "train['YearRemodAdd'] = train['YearRemodAdd'].astype('category').cat.codes\n",
    "test['YearRemodAdd'] = test['YearRemodAdd'].astype('category').cat.codes \n",
    "\n",
    "train['GarageYrBlt'] = train['GarageYrBlt'].astype('category').cat.codes\n",
    "test['GarageYrBlt'] = test['GarageYrBlt'].astype('category').cat.codes \n",
    "\n",
    "train.drop(['Id'], axis=1, inplace=True)  # 숫자형 데이터를 범주형으로 변경\n",
    "\n",
    "columns = list(train.columns.values)\n",
    "\n",
    "objcols = []\n",
    "for i in columns:\n",
    "    if train[i].dtype == 'object':\n",
    "        objcols.append(i)\n",
    "        \n",
    "for objcol in objcols:\n",
    "    train[objcol] = train[objcol].astype('category').cat.codes\n",
    "    test[objcol] = test[objcol].astype('category').cat.codes\n",
    "    \n",
    "train = train.drop(['Utilities'], axis=1)\n",
    "test = test.drop(['Utilities'], axis=1)\n",
    "\n",
    "train = train.drop(['Street'], axis=1)\n",
    "test = test.drop(['Street'], axis=1)\n",
    "\n",
    "train['Condition2'] = np.log1p(train['Condition2'])\n",
    "test['Condition2'] = np.log1p(test['Condition2'])\n",
    "\n",
    "train['Heating'] = np.log1p(train['Heating'])\n",
    "test['Heating'] = np.log1p(test['Heating'])\n",
    "\n",
    "train['LotArea'] = np.log1p(train['LotArea'])\n",
    "test['LotArea'] = np.log1p(test['LotArea'])"
   ]
  },
  {
   "cell_type": "code",
   "execution_count": 4,
   "id": "82714403",
   "metadata": {},
   "outputs": [
    {
     "data": {
      "text/plain": [
       "((1457, 71), (1457,), (1459, 71))"
      ]
     },
     "execution_count": 4,
     "metadata": {},
     "output_type": "execute_result"
    }
   ],
   "source": [
    "X_train = train.drop(['SalePrice'], axis=1).copy()\n",
    "y_train = train['SalePrice']\n",
    "X_test = test.drop(['Id'], axis=1).copy()\n",
    "\n",
    "X_train.shape, y_train.shape, X_test.shape"
   ]
  },
  {
   "cell_type": "code",
   "execution_count": 5,
   "id": "1630b779",
   "metadata": {},
   "outputs": [],
   "source": [
    "import numpy as np\n",
    "\n",
    "n_folds = 10\n",
    "def rmse_cv(model):\n",
    "    kf = KFold(n_folds, shuffle=True, random_state=42).get_n_splits(X_train.values)\n",
    "    rmse= np.sqrt(-cross_val_score(model, X_train.values, y_train, scoring=\"neg_mean_squared_error\", cv = kf))\n",
    "    return(rmse)"
   ]
  },
  {
   "cell_type": "code",
   "execution_count": 14,
   "id": "e9cf787f",
   "metadata": {},
   "outputs": [
    {
     "data": {
      "text/plain": [
       "22669.107076946726"
      ]
     },
     "execution_count": 14,
     "metadata": {},
     "output_type": "execute_result"
    }
   ],
   "source": [
    "xgb_reg = XGBRegressor(learning_rate=0.05, max_depth=9, colsample_bytree=0.6, \n",
    "                               subsample=0.6, eval_metric='rmse', colsample_bylevel=0.66,\n",
    "                              alpha=1.05, n_estimators=1500, min_child_weight=1.0)\n",
    "xgb_reg.fit(X_train, y_train)\n",
    "xgb_pred = xgb_reg.predict(X_test)\n",
    "\n",
    "rmse_cv(xgb_reg).mean()"
   ]
  },
  {
   "cell_type": "code",
   "execution_count": null,
   "id": "c0645e2f",
   "metadata": {},
   "outputs": [],
   "source": [
    "xgb = pd.DataFrame({\n",
    "        \"Id\": test[\"Id\"],\n",
    "        \"SalePrice\": xgb_pred\n",
    "    }) \n",
    "xgb.to_csv(\"./xgb.csv\",index=False) # 0.13565"
   ]
  },
  {
   "cell_type": "code",
   "execution_count": 7,
   "id": "23a45871",
   "metadata": {},
   "outputs": [
    {
     "data": {
      "text/plain": [
       "24779.080704561835"
      ]
     },
     "execution_count": 7,
     "metadata": {},
     "output_type": "execute_result"
    }
   ],
   "source": [
    "rf_reg = RandomForestRegressor(n_estimators=100, max_features=26)\n",
    "rf_reg.fit(X_train, y_train)\n",
    "rf_pred = rf_reg.predict(X_test)\n",
    "\n",
    "rmse_cv(rf_reg).mean()"
   ]
  },
  {
   "cell_type": "code",
   "execution_count": null,
   "id": "6ff13dcd",
   "metadata": {},
   "outputs": [],
   "source": [
    "rf = pd.DataFrame({\n",
    "        \"Id\": test[\"Id\"],\n",
    "        \"SalePrice\": rf_pred\n",
    "    }) \n",
    "rf.to_csv(\"./rf.csv\",index=False) # 0.14775"
   ]
  },
  {
   "cell_type": "code",
   "execution_count": 8,
   "id": "687a3602",
   "metadata": {},
   "outputs": [
    {
     "data": {
      "text/plain": [
       "22064.732675619667"
      ]
     },
     "execution_count": 8,
     "metadata": {},
     "output_type": "execute_result"
    }
   ],
   "source": [
    "gbr_reg = GradientBoostingRegressor(learning_rate=0.095, n_estimators=500, subsample=0.85, alpha=0.01)\n",
    "gbr_reg.fit(X_train, y_train)\n",
    "gbr_pred = gbr_reg.predict(X_test)\n",
    "\n",
    "rmse_cv(gbr_reg).mean()"
   ]
  },
  {
   "cell_type": "code",
   "execution_count": 73,
   "id": "84ab36b4",
   "metadata": {},
   "outputs": [],
   "source": [
    "gbr = pd.DataFrame({\n",
    "        \"Id\": test[\"Id\"],\n",
    "        \"SalePrice\": gbr_pred\n",
    "    }) \n",
    "gbr.to_csv(\"./gbr.csv\",index=False) # 0.13855"
   ]
  },
  {
   "cell_type": "code",
   "execution_count": 27,
   "id": "5ff068c7",
   "metadata": {},
   "outputs": [],
   "source": [
    "xgb_score = rmse_cv(xgb_reg).mean()\n",
    "gbr_score = rmse_cv(gbr_reg).mean()\n",
    "rf_score = rmse_cv(rf_reg).mean()"
   ]
  },
  {
   "cell_type": "code",
   "execution_count": 28,
   "id": "ee37d9a5",
   "metadata": {},
   "outputs": [],
   "source": [
    "total_weight = (1. / gbr_score) + (1. / xgb_score) + (1. / rf_score)\n",
    "pred = (gbr_pred * (1. / gbr_score) + xgb_pred * (1. / xgb_score) +  rf_pred * (1. / rf_score)) / total_weight"
   ]
  },
  {
   "cell_type": "code",
   "execution_count": 29,
   "id": "e4c8fb02",
   "metadata": {},
   "outputs": [],
   "source": [
    "total = pd.DataFrame({\n",
    "        \"Id\": test[\"Id\"],\n",
    "        \"SalePrice\": pred\n",
    "    }) \n",
    "total.to_csv(\"./total.csv\",index=False) # 0.13528"
   ]
  },
  {
   "cell_type": "code",
   "execution_count": 10,
   "id": "139bef33",
   "metadata": {},
   "outputs": [],
   "source": [
    "from sklearn.ensemble import StackingRegressor\n",
    "from xgboost import XGBRegressor"
   ]
  },
  {
   "cell_type": "code",
   "execution_count": 19,
   "id": "61cbc430",
   "metadata": {},
   "outputs": [],
   "source": [
    "estimators = [('gbr', gbr_reg),\n",
    "              ('xgb', xgb_reg),\n",
    "              ('rf', rf_reg)]"
   ]
  },
  {
   "cell_type": "code",
   "execution_count": 22,
   "id": "181b5134",
   "metadata": {
    "scrolled": true
   },
   "outputs": [],
   "source": [
    "stack = StackingRegressor(estimators=estimators, final_estimator=xgb_reg)\n",
    "stack.fit(X_train, y_train)\n",
    "stack_pred = stack.predict(X_test)\n",
    "\n",
    "stack_score = rmse_cv(stack).mean()"
   ]
  },
  {
   "cell_type": "code",
   "execution_count": 24,
   "id": "f43c7b63",
   "metadata": {},
   "outputs": [],
   "source": [
    "stack = pd.DataFrame({\n",
    "        \"Id\": test[\"Id\"],\n",
    "        \"SalePrice\": stack_pred\n",
    "    }) \n",
    "stack.to_csv(\"./stack.csv\",index=False) #"
   ]
  },
  {
   "cell_type": "code",
   "execution_count": 30,
   "id": "b22d4b97",
   "metadata": {},
   "outputs": [],
   "source": [
    "def blended_predictions(X):\n",
    "    return ((0.15 * gbr_pred) + (0.25 * xgb_pred) + (0.1 * rf_pred) + (0.4 * stack_pred) + (0.1 * pred))"
   ]
  },
  {
   "cell_type": "code",
   "execution_count": 33,
   "id": "d95e97d9",
   "metadata": {},
   "outputs": [],
   "source": [
    "blended_pred = blended_predictions(X_test)"
   ]
  },
  {
   "cell_type": "code",
   "execution_count": 32,
   "id": "f1622b3c",
   "metadata": {},
   "outputs": [],
   "source": [
    "blend = pd.DataFrame({\n",
    "        \"Id\": test[\"Id\"],\n",
    "        \"SalePrice\": blended_pred\n",
    "    }) \n",
    "blend.to_csv(\"./blend.csv\",index=False) # 0.13920"
   ]
  }
 ],
 "metadata": {
  "kernelspec": {
   "display_name": "Python 3",
   "language": "python",
   "name": "python3"
  },
  "language_info": {
   "codemirror_mode": {
    "name": "ipython",
    "version": 3
   },
   "file_extension": ".py",
   "mimetype": "text/x-python",
   "name": "python",
   "nbconvert_exporter": "python",
   "pygments_lexer": "ipython3",
   "version": "3.8.8"
  }
 },
 "nbformat": 4,
 "nbformat_minor": 5
}
