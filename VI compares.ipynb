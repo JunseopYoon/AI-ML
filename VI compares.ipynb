{
 "cells": [
  {
   "cell_type": "markdown",
   "id": "ae4bc1d1-a4b5-4260-acfe-63bdff82d30a",
   "metadata": {
    "tags": []
   },
   "source": [
    "# PYMC"
   ]
  },
  {
   "cell_type": "code",
   "execution_count": 1,
   "id": "15509f38-8ae9-47c6-81ff-105ecf32b740",
   "metadata": {
    "tags": []
   },
   "outputs": [
    {
     "name": "stderr",
     "output_type": "stream",
     "text": [
      "WARNING (theano.tensor.blas): Using NumPy C-API based implementation for BLAS functions.\n"
     ]
    }
   ],
   "source": [
    "%matplotlib inline\n",
    "import arviz as az\n",
    "import matplotlib.pyplot as plt\n",
    "import numpy as np\n",
    "import pandas as pd\n",
    "import pymc3 as pm\n",
    "import seaborn as sns\n",
    "import theano\n",
    "from numpy.random import binomial, randn, uniform\n",
    "from sklearn.model_selection import train_test_split\n",
    "from pymc3.variational.callbacks import CheckParametersConvergence\n",
    "\n",
    "np.random.seed(42)\n",
    "pm.set_tt_rng(42)"
   ]
  },
  {
   "cell_type": "code",
   "execution_count": 2,
   "id": "da2a569b-5961-4b75-9cda-d294f3df8a3f",
   "metadata": {},
   "outputs": [],
   "source": [
    "data1 = [0,1,0,0,0,0,0,0,0,1,\n",
    "        0,1,0,0,0,0,0,0,0,1,\n",
    "        0,1,0,0,0,0,0,0,0,1,\n",
    "        0,1,0,0,0,0,0,0,0,1,\n",
    "        0,1,0,0,0,0,0,0,0,1,\n",
    "        0,1,0,0,0,0,0,0,0,1,\n",
    "        0,1,0,0,0,0,0,0,0,1,\n",
    "        0,1,0,0,0,0,0,0,0,1,\n",
    "        0,1,0,0,0,0,0,0,0,1,\n",
    "        0,1,0,0,0,0,0,0,0,1\n",
    "        ]"
   ]
  },
  {
   "cell_type": "markdown",
   "id": "6ff8a337-1966-4c98-8afe-cfff8741f1be",
   "metadata": {},
   "source": [
    "## VI"
   ]
  },
  {
   "cell_type": "code",
   "execution_count": 7,
   "id": "83b3d14a-c943-4240-a49c-8b7f49b45901",
   "metadata": {},
   "outputs": [
    {
     "data": {
      "text/html": [
       "\n",
       "<style>\n",
       "    /* Turns off some styling */\n",
       "    progress {\n",
       "        /* gets rid of default border in Firefox and Opera. */\n",
       "        border: none;\n",
       "        /* Needs to be in here for Safari polyfill so background images work as expected. */\n",
       "        background-size: auto;\n",
       "    }\n",
       "    progress:not([value]), progress:not([value])::-webkit-progress-bar {\n",
       "        background: repeating-linear-gradient(45deg, #7e7e7e, #7e7e7e 10px, #5c5c5c 10px, #5c5c5c 20px);\n",
       "    }\n",
       "    .progress-bar-interrupted, .progress-bar-interrupted::-webkit-progress-bar {\n",
       "        background: #F44336;\n",
       "    }\n",
       "</style>\n"
      ],
      "text/plain": [
       "<IPython.core.display.HTML object>"
      ]
     },
     "metadata": {},
     "output_type": "display_data"
    },
    {
     "data": {
      "text/html": [
       "\n",
       "    <div>\n",
       "      <progress value='10000' class='' max='10000' style='width:300px; height:20px; vertical-align: middle;'></progress>\n",
       "      100.00% [10000/10000 00:00&lt;00:00 Average Loss = 52.395]\n",
       "    </div>\n",
       "    "
      ],
      "text/plain": [
       "<IPython.core.display.HTML object>"
      ]
     },
     "metadata": {},
     "output_type": "display_data"
    },
    {
     "name": "stderr",
     "output_type": "stream",
     "text": [
      "Finished [100%]: Average Loss = 52.395\n",
      "/home/junseop_yoon/anaconda3/envs/pymc3/lib/python3.7/site-packages/deprecat/classic.py:215: FutureWarning: In v4.0, pm.sample will return an `arviz.InferenceData` object instead of a `MultiTrace` by default. You can pass return_inferencedata=True or return_inferencedata=False to be safe and silence this warning.\n",
      "  return wrapped_(*args_, **kwargs_)\n",
      "Auto-assigning NUTS sampler...\n",
      "Initializing NUTS using jitter+adapt_diag...\n",
      "Multiprocess sampling (8 chains in 8 jobs)\n",
      "NUTS: [theta]\n"
     ]
    },
    {
     "data": {
      "text/html": [
       "\n",
       "<style>\n",
       "    /* Turns off some styling */\n",
       "    progress {\n",
       "        /* gets rid of default border in Firefox and Opera. */\n",
       "        border: none;\n",
       "        /* Needs to be in here for Safari polyfill so background images work as expected. */\n",
       "        background-size: auto;\n",
       "    }\n",
       "    progress:not([value]), progress:not([value])::-webkit-progress-bar {\n",
       "        background: repeating-linear-gradient(45deg, #7e7e7e, #7e7e7e 10px, #5c5c5c 10px, #5c5c5c 20px);\n",
       "    }\n",
       "    .progress-bar-interrupted, .progress-bar-interrupted::-webkit-progress-bar {\n",
       "        background: #F44336;\n",
       "    }\n",
       "</style>\n"
      ],
      "text/plain": [
       "<IPython.core.display.HTML object>"
      ]
     },
     "metadata": {},
     "output_type": "display_data"
    },
    {
     "data": {
      "text/html": [
       "\n",
       "    <div>\n",
       "      <progress value='16000' class='' max='16000' style='width:300px; height:20px; vertical-align: middle;'></progress>\n",
       "      100.00% [16000/16000 00:01&lt;00:00 Sampling 8 chains, 0 divergences]\n",
       "    </div>\n",
       "    "
      ],
      "text/plain": [
       "<IPython.core.display.HTML object>"
      ]
     },
     "metadata": {},
     "output_type": "display_data"
    },
    {
     "name": "stderr",
     "output_type": "stream",
     "text": [
      "Sampling 8 chains for 1_000 tune and 1_000 draw iterations (8_000 + 8_000 draws total) took 2 seconds.\n",
      "The acceptance probability does not match the target. It is 0.6773325066507503, but should be close to 0.8. Try to increase the number of tuning steps.\n"
     ]
    },
    {
     "name": "stdout",
     "output_type": "stream",
     "text": [
      "CPU times: user 5.37 s, sys: 236 ms, total: 5.6 s\n",
      "Wall time: 5.78 s\n"
     ]
    }
   ],
   "source": [
    "%%time\n",
    "with pm.Model() as model:\n",
    "    p = pm.Beta('theta',1,1)\n",
    "    likelihood = pm.Bernoulli('likelihood', p=p, observed=data1)\n",
    "    advi_fit = pm.fit(method='advi')\n",
    "    trace = pm.sample(1000, cores=8)"
   ]
  },
  {
   "cell_type": "code",
   "execution_count": 8,
   "id": "b2c9f9ed-3757-4955-807c-018c62c58d43",
   "metadata": {},
   "outputs": [
    {
     "name": "stderr",
     "output_type": "stream",
     "text": [
      "Got error No model on context stack. trying to find log_likelihood in translation.\n",
      "/home/junseop_yoon/anaconda3/envs/pymc3/lib/python3.7/site-packages/arviz/data/io_pymc3_3x.py:102: FutureWarning: Using `from_pymc3` without the model will be deprecated in a future release. Not using the model will return less accurate and less useful results. Make sure you use the model argument or call from_pymc3 within a model context.\n",
      "  FutureWarning,\n"
     ]
    },
    {
     "data": {
      "image/png": "[encoded data removed]",
      "text/plain": [
       "<Figure size 640x480 with 1 Axes>"
      ]
     },
     "metadata": {},
     "output_type": "display_data"
    }
   ],
   "source": [
    "az.plot_posterior(advi_fit.sample(1000), color=\"LightSeaGreen\");"
   ]
  },
  {
   "cell_type": "code",
   "execution_count": 9,
   "id": "6f4c0a92-edaf-488e-a923-a50d76632392",
   "metadata": {},
   "outputs": [
    {
     "name": "stderr",
     "output_type": "stream",
     "text": [
      "Got error No model on context stack. trying to find log_likelihood in translation.\n"
     ]
    },
    {
     "data": {
      "text/html": [
       "<div>\n",
       "<style scoped>\n",
       "    .dataframe tbody tr th:only-of-type {\n",
       "        vertical-align: middle;\n",
       "    }\n",
       "\n",
       "    .dataframe tbody tr th {\n",
       "        vertical-align: top;\n",
       "    }\n",
       "\n",
       "    .dataframe thead th {\n",
       "        text-align: right;\n",
       "    }\n",
       "</style>\n",
       "<table border=\"1\" class=\"dataframe\">\n",
       "  <thead>\n",
       "    <tr style=\"text-align: right;\">\n",
       "      <th></th>\n",
       "      <th>mean</th>\n",
       "      <th>sd</th>\n",
       "      <th>hdi_3%</th>\n",
       "      <th>hdi_97%</th>\n",
       "      <th>mcse_mean</th>\n",
       "      <th>mcse_sd</th>\n",
       "      <th>ess_bulk</th>\n",
       "      <th>ess_tail</th>\n",
       "      <th>r_hat</th>\n",
       "    </tr>\n",
       "  </thead>\n",
       "  <tbody>\n",
       "    <tr>\n",
       "      <th>theta</th>\n",
       "      <td>0.205</td>\n",
       "      <td>0.039</td>\n",
       "      <td>0.134</td>\n",
       "      <td>0.281</td>\n",
       "      <td>0.001</td>\n",
       "      <td>0.0</td>\n",
       "      <td>3742.0</td>\n",
       "      <td>5159.0</td>\n",
       "      <td>1.0</td>\n",
       "    </tr>\n",
       "  </tbody>\n",
       "</table>\n",
       "</div>"
      ],
      "text/plain": [
       "        mean     sd  hdi_3%  hdi_97%  mcse_mean  mcse_sd  ess_bulk  ess_tail  \\\n",
       "theta  0.205  0.039   0.134    0.281      0.001      0.0    3742.0    5159.0   \n",
       "\n",
       "       r_hat  \n",
       "theta    1.0  "
      ]
     },
     "execution_count": 9,
     "metadata": {},
     "output_type": "execute_result"
    }
   ],
   "source": [
    "pm.summary(trace)"
   ]
  },
  {
   "cell_type": "code",
   "execution_count": 8,
   "id": "c8c3650e-fc1d-48aa-ae1c-960301599c51",
   "metadata": {},
   "outputs": [],
   "source": [
    "data2 = [0,1,0,0,0,0,0,0,0,1]"
   ]
  },
  {
   "cell_type": "code",
   "execution_count": 11,
   "id": "891fced1-154c-4f8d-90a4-af170cf20308",
   "metadata": {},
   "outputs": [
    {
     "data": {
      "text/html": [
       "\n",
       "<style>\n",
       "    /* Turns off some styling */\n",
       "    progress {\n",
       "        /* gets rid of default border in Firefox and Opera. */\n",
       "        border: none;\n",
       "        /* Needs to be in here for Safari polyfill so background images work as expected. */\n",
       "        background-size: auto;\n",
       "    }\n",
       "    progress:not([value]), progress:not([value])::-webkit-progress-bar {\n",
       "        background: repeating-linear-gradient(45deg, #7e7e7e, #7e7e7e 10px, #5c5c5c 10px, #5c5c5c 20px);\n",
       "    }\n",
       "    .progress-bar-interrupted, .progress-bar-interrupted::-webkit-progress-bar {\n",
       "        background: #F44336;\n",
       "    }\n",
       "</style>\n"
      ],
      "text/plain": [
       "<IPython.core.display.HTML object>"
      ]
     },
     "metadata": {},
     "output_type": "display_data"
    },
    {
     "data": {
      "text/html": [
       "\n",
       "    <div>\n",
       "      <progress value='10000' class='' max='10000' style='width:300px; height:20px; vertical-align: middle;'></progress>\n",
       "      100.00% [10000/10000 00:00&lt;00:00 Average Loss = 6.2247]\n",
       "    </div>\n",
       "    "
      ],
      "text/plain": [
       "<IPython.core.display.HTML object>"
      ]
     },
     "metadata": {},
     "output_type": "display_data"
    },
    {
     "name": "stderr",
     "output_type": "stream",
     "text": [
      "Finished [100%]: Average Loss = 6.2247\n",
      "/home/junseop_yoon/anaconda3/envs/pymc3/lib/python3.7/site-packages/deprecat/classic.py:215: FutureWarning: In v4.0, pm.sample will return an `arviz.InferenceData` object instead of a `MultiTrace` by default. You can pass return_inferencedata=True or return_inferencedata=False to be safe and silence this warning.\n",
      "  return wrapped_(*args_, **kwargs_)\n",
      "Auto-assigning NUTS sampler...\n",
      "Initializing NUTS using jitter+adapt_diag...\n",
      "Multiprocess sampling (4 chains in 4 jobs)\n",
      "NUTS: [theta]\n"
     ]
    },
    {
     "data": {
      "text/html": [
       "\n",
       "<style>\n",
       "    /* Turns off some styling */\n",
       "    progress {\n",
       "        /* gets rid of default border in Firefox and Opera. */\n",
       "        border: none;\n",
       "        /* Needs to be in here for Safari polyfill so background images work as expected. */\n",
       "        background-size: auto;\n",
       "    }\n",
       "    progress:not([value]), progress:not([value])::-webkit-progress-bar {\n",
       "        background: repeating-linear-gradient(45deg, #7e7e7e, #7e7e7e 10px, #5c5c5c 10px, #5c5c5c 20px);\n",
       "    }\n",
       "    .progress-bar-interrupted, .progress-bar-interrupted::-webkit-progress-bar {\n",
       "        background: #F44336;\n",
       "    }\n",
       "</style>\n"
      ],
      "text/plain": [
       "<IPython.core.display.HTML object>"
      ]
     },
     "metadata": {},
     "output_type": "display_data"
    },
    {
     "data": {
      "text/html": [
       "\n",
       "    <div>\n",
       "      <progress value='12000' class='' max='12000' style='width:300px; height:20px; vertical-align: middle;'></progress>\n",
       "      100.00% [12000/12000 00:01&lt;00:00 Sampling 4 chains, 0 divergences]\n",
       "    </div>\n",
       "    "
      ],
      "text/plain": [
       "<IPython.core.display.HTML object>"
      ]
     },
     "metadata": {},
     "output_type": "display_data"
    },
    {
     "name": "stderr",
     "output_type": "stream",
     "text": [
      "Sampling 4 chains for 1_000 tune and 2_000 draw iterations (4_000 + 8_000 draws total) took 1 seconds.\n"
     ]
    }
   ],
   "source": [
    "with pm.Model() as model2:\n",
    "    p = pm.Beta('theta',1,1)\n",
    "    # likelihood = pm.Bernoulli('likelihood', n=100, p=p, observed=20)\n",
    "    likelihood = pm.Bernoulli('likelihood', p=p, observed=data2)\n",
    "    advi_fit = pm.fit(method='advi')\n",
    "    trace = pm.sample(2000, cores=4)"
   ]
  },
  {
   "cell_type": "code",
   "execution_count": 12,
   "id": "d109f2fd-da8d-4e96-8859-2e4f4749a03b",
   "metadata": {},
   "outputs": [
    {
     "name": "stderr",
     "output_type": "stream",
     "text": [
      "Got error No model on context stack. trying to find log_likelihood in translation.\n",
      "/home/junseop_yoon/anaconda3/envs/pymc3/lib/python3.7/site-packages/arviz/data/io_pymc3_3x.py:102: FutureWarning: Using `from_pymc3` without the model will be deprecated in a future release. Not using the model will return less accurate and less useful results. Make sure you use the model argument or call from_pymc3 within a model context.\n",
      "  FutureWarning,\n"
     ]
    },
    {
     "data": {
      "image/png": "[encoded data removed]",
      "text/plain": [
       "<Figure size 640x480 with 1 Axes>"
      ]
     },
     "metadata": {},
     "output_type": "display_data"
    }
   ],
   "source": [
    "az.plot_posterior(advi_fit.sample(1000), color=\"LightSeaGreen\");"
   ]
  },
  {
   "cell_type": "code",
   "execution_count": 13,
   "id": "44c620d6-5137-4b68-bf69-81e9e1f47de2",
   "metadata": {},
   "outputs": [
    {
     "data": {
      "text/plain": [
       "[<matplotlib.lines.Line2D at 0x7f3a20b57b10>]"
      ]
     },
     "execution_count": 13,
     "metadata": {},
     "output_type": "execute_result"
    },
    {
     "data": {
      "image/png": "[encoded data removed]",
      "text/plain": [
       "<Figure size 640x480 with 1 Axes>"
      ]
     },
     "metadata": {},
     "output_type": "display_data"
    }
   ],
   "source": [
    "plt.plot(advi_fit.hist)"
   ]
  },
  {
   "cell_type": "code",
   "execution_count": 14,
   "id": "4ce7d981-27a7-4e4c-aecb-811bd9447d77",
   "metadata": {},
   "outputs": [
    {
     "name": "stderr",
     "output_type": "stream",
     "text": [
      "Got error No model on context stack. trying to find log_likelihood in translation.\n"
     ]
    },
    {
     "data": {
      "text/html": [
       "<div>\n",
       "<style scoped>\n",
       "    .dataframe tbody tr th:only-of-type {\n",
       "        vertical-align: middle;\n",
       "    }\n",
       "\n",
       "    .dataframe tbody tr th {\n",
       "        vertical-align: top;\n",
       "    }\n",
       "\n",
       "    .dataframe thead th {\n",
       "        text-align: right;\n",
       "    }\n",
       "</style>\n",
       "<table border=\"1\" class=\"dataframe\">\n",
       "  <thead>\n",
       "    <tr style=\"text-align: right;\">\n",
       "      <th></th>\n",
       "      <th>mean</th>\n",
       "      <th>sd</th>\n",
       "      <th>hdi_3%</th>\n",
       "      <th>hdi_97%</th>\n",
       "      <th>mcse_mean</th>\n",
       "      <th>mcse_sd</th>\n",
       "      <th>ess_bulk</th>\n",
       "      <th>ess_tail</th>\n",
       "      <th>r_hat</th>\n",
       "    </tr>\n",
       "  </thead>\n",
       "  <tbody>\n",
       "    <tr>\n",
       "      <th>theta</th>\n",
       "      <td>0.248</td>\n",
       "      <td>0.118</td>\n",
       "      <td>0.055</td>\n",
       "      <td>0.47</td>\n",
       "      <td>0.002</td>\n",
       "      <td>0.001</td>\n",
       "      <td>3384.0</td>\n",
       "      <td>4158.0</td>\n",
       "      <td>1.0</td>\n",
       "    </tr>\n",
       "  </tbody>\n",
       "</table>\n",
       "</div>"
      ],
      "text/plain": [
       "        mean     sd  hdi_3%  hdi_97%  mcse_mean  mcse_sd  ess_bulk  ess_tail  \\\n",
       "theta  0.248  0.118   0.055     0.47      0.002    0.001    3384.0    4158.0   \n",
       "\n",
       "       r_hat  \n",
       "theta    1.0  "
      ]
     },
     "execution_count": 14,
     "metadata": {},
     "output_type": "execute_result"
    }
   ],
   "source": [
    "pm.summary(trace)"
   ]
  },
  {
   "cell_type": "markdown",
   "id": "54fcbb80-609a-4be8-b162-d139714f7d3d",
   "metadata": {},
   "source": [
    "## MCMC"
   ]
  },
  {
   "cell_type": "code",
   "execution_count": 5,
   "id": "0f6d3faf-a2dd-4216-8f9d-93e903f3cf5b",
   "metadata": {},
   "outputs": [
    {
     "name": "stderr",
     "output_type": "stream",
     "text": [
      "/home/junseop_yoon/anaconda3/envs/pymc3/lib/python3.7/site-packages/deprecat/classic.py:215: FutureWarning: In v4.0, pm.sample will return an `arviz.InferenceData` object instead of a `MultiTrace` by default. You can pass return_inferencedata=True or return_inferencedata=False to be safe and silence this warning.\n",
      "  return wrapped_(*args_, **kwargs_)\n",
      "Auto-assigning NUTS sampler...\n",
      "Initializing NUTS using jitter+adapt_diag...\n",
      "Multiprocess sampling (8 chains in 8 jobs)\n",
      "NUTS: [theta]\n"
     ]
    },
    {
     "data": {
      "text/html": [
       "\n",
       "<style>\n",
       "    /* Turns off some styling */\n",
       "    progress {\n",
       "        /* gets rid of default border in Firefox and Opera. */\n",
       "        border: none;\n",
       "        /* Needs to be in here for Safari polyfill so background images work as expected. */\n",
       "        background-size: auto;\n",
       "    }\n",
       "    progress:not([value]), progress:not([value])::-webkit-progress-bar {\n",
       "        background: repeating-linear-gradient(45deg, #7e7e7e, #7e7e7e 10px, #5c5c5c 10px, #5c5c5c 20px);\n",
       "    }\n",
       "    .progress-bar-interrupted, .progress-bar-interrupted::-webkit-progress-bar {\n",
       "        background: #F44336;\n",
       "    }\n",
       "</style>\n"
      ],
      "text/plain": [
       "<IPython.core.display.HTML object>"
      ]
     },
     "metadata": {},
     "output_type": "display_data"
    },
    {
     "data": {
      "text/html": [
       "\n",
       "    <div>\n",
       "      <progress value='48000' class='' max='48000' style='width:300px; height:20px; vertical-align: middle;'></progress>\n",
       "      100.00% [48000/48000 00:04&lt;00:00 Sampling 8 chains, 0 divergences]\n",
       "    </div>\n",
       "    "
      ],
      "text/plain": [
       "<IPython.core.display.HTML object>"
      ]
     },
     "metadata": {},
     "output_type": "display_data"
    },
    {
     "name": "stderr",
     "output_type": "stream",
     "text": [
      "Sampling 8 chains for 1_000 tune and 5_000 draw iterations (8_000 + 40_000 draws total) took 5 seconds.\n",
      "The acceptance probability does not match the target. It is 0.8833088228726031, but should be close to 0.8. Try to increase the number of tuning steps.\n"
     ]
    },
    {
     "name": "stdout",
     "output_type": "stream",
     "text": [
      "CPU times: user 7.1 s, sys: 450 ms, total: 7.55 s\n",
      "Wall time: 8.12 s\n"
     ]
    }
   ],
   "source": [
    "%%time\n",
    "with pm.Model() as model:\n",
    "    p = pm.Beta('theta',1,1)\n",
    "    likelihood = pm.Bernoulli('likelihood', p=p, observed=data1)\n",
    "    trace = pm.sample(draws=5000, tune=1000, cores=8)"
   ]
  },
  {
   "cell_type": "code",
   "execution_count": 6,
   "id": "b6e3f0eb-5e2d-4957-bfed-a5853f36d214",
   "metadata": {},
   "outputs": [
    {
     "name": "stderr",
     "output_type": "stream",
     "text": [
      "/home/junseop_yoon/anaconda3/envs/pymc3/lib/python3.7/site-packages/ipykernel_launcher.py:1: DeprecationWarning: The function `traceplot` from PyMC3 is just an alias for `plot_trace` from ArviZ. Please switch to `pymc3.plot_trace` or `arviz.plot_trace`.\n",
      "  \"\"\"Entry point for launching an IPython kernel.\n",
      "Got error No model on context stack. trying to find log_likelihood in translation.\n",
      "/home/junseop_yoon/anaconda3/envs/pymc3/lib/python3.7/site-packages/arviz/data/io_pymc3_3x.py:102: FutureWarning: Using `from_pymc3` without the model will be deprecated in a future release. Not using the model will return less accurate and less useful results. Make sure you use the model argument or call from_pymc3 within a model context.\n",
      "  FutureWarning,\n",
      "Got error No model on context stack. trying to find log_likelihood in translation.\n",
      "Got error No model on context stack. trying to find log_likelihood in translation.\n",
      "/home/junseop_yoon/anaconda3/envs/pymc3/lib/python3.7/site-packages/arviz/data/io_pymc3_3x.py:102: FutureWarning: Using `from_pymc3` without the model will be deprecated in a future release. Not using the model will return less accurate and less useful results. Make sure you use the model argument or call from_pymc3 within a model context.\n",
      "  FutureWarning,\n"
     ]
    },
    {
     "data": {
      "text/html": [
       "<div>\n",
       "<style scoped>\n",
       "    .dataframe tbody tr th:only-of-type {\n",
       "        vertical-align: middle;\n",
       "    }\n",
       "\n",
       "    .dataframe tbody tr th {\n",
       "        vertical-align: top;\n",
       "    }\n",
       "\n",
       "    .dataframe thead th {\n",
       "        text-align: right;\n",
       "    }\n",
       "</style>\n",
       "<table border=\"1\" class=\"dataframe\">\n",
       "  <thead>\n",
       "    <tr style=\"text-align: right;\">\n",
       "      <th></th>\n",
       "      <th>mean</th>\n",
       "      <th>sd</th>\n",
       "      <th>hdi_3%</th>\n",
       "      <th>hdi_97%</th>\n",
       "      <th>mcse_mean</th>\n",
       "      <th>mcse_sd</th>\n",
       "      <th>ess_bulk</th>\n",
       "      <th>ess_tail</th>\n",
       "      <th>r_hat</th>\n",
       "    </tr>\n",
       "  </thead>\n",
       "  <tbody>\n",
       "    <tr>\n",
       "      <th>theta</th>\n",
       "      <td>0.205</td>\n",
       "      <td>0.04</td>\n",
       "      <td>0.132</td>\n",
       "      <td>0.281</td>\n",
       "      <td>0.0</td>\n",
       "      <td>0.0</td>\n",
       "      <td>17061.0</td>\n",
       "      <td>26662.0</td>\n",
       "      <td>1.0</td>\n",
       "    </tr>\n",
       "  </tbody>\n",
       "</table>\n",
       "</div>"
      ],
      "text/plain": [
       "        mean    sd  hdi_3%  hdi_97%  mcse_mean  mcse_sd  ess_bulk  ess_tail  \\\n",
       "theta  0.205  0.04   0.132    0.281        0.0      0.0   17061.0   26662.0   \n",
       "\n",
       "       r_hat  \n",
       "theta    1.0  "
      ]
     },
     "execution_count": 6,
     "metadata": {},
     "output_type": "execute_result"
    },
    {
     "data": {
      "image/png": "[encoded data removed]",
      "text/plain": [
       "<Figure size 1200x200 with 2 Axes>"
      ]
     },
     "metadata": {},
     "output_type": "display_data"
    }
   ],
   "source": [
    "pm.traceplot(trace)\n",
    "pm.summary(trace)"
   ]
  },
  {
   "cell_type": "code",
   "execution_count": 9,
   "id": "101d840e-365b-44f7-8b26-49ccd1dd6b07",
   "metadata": {},
   "outputs": [
    {
     "name": "stderr",
     "output_type": "stream",
     "text": [
      "/home/junseop_yoon/anaconda3/envs/pymc3/lib/python3.7/site-packages/deprecat/classic.py:215: FutureWarning: In v4.0, pm.sample will return an `arviz.InferenceData` object instead of a `MultiTrace` by default. You can pass return_inferencedata=True or return_inferencedata=False to be safe and silence this warning.\n",
      "  return wrapped_(*args_, **kwargs_)\n",
      "Auto-assigning NUTS sampler...\n",
      "Initializing NUTS using jitter+adapt_diag...\n",
      "Multiprocess sampling (8 chains in 8 jobs)\n",
      "NUTS: [theta]\n"
     ]
    },
    {
     "data": {
      "text/html": [
       "\n",
       "<style>\n",
       "    /* Turns off some styling */\n",
       "    progress {\n",
       "        /* gets rid of default border in Firefox and Opera. */\n",
       "        border: none;\n",
       "        /* Needs to be in here for Safari polyfill so background images work as expected. */\n",
       "        background-size: auto;\n",
       "    }\n",
       "    progress:not([value]), progress:not([value])::-webkit-progress-bar {\n",
       "        background: repeating-linear-gradient(45deg, #7e7e7e, #7e7e7e 10px, #5c5c5c 10px, #5c5c5c 20px);\n",
       "    }\n",
       "    .progress-bar-interrupted, .progress-bar-interrupted::-webkit-progress-bar {\n",
       "        background: #F44336;\n",
       "    }\n",
       "</style>\n"
      ],
      "text/plain": [
       "<IPython.core.display.HTML object>"
      ]
     },
     "metadata": {},
     "output_type": "display_data"
    },
    {
     "data": {
      "text/html": [
       "\n",
       "    <div>\n",
       "      <progress value='48000' class='' max='48000' style='width:300px; height:20px; vertical-align: middle;'></progress>\n",
       "      100.00% [48000/48000 00:04&lt;00:00 Sampling 8 chains, 0 divergences]\n",
       "    </div>\n",
       "    "
      ],
      "text/plain": [
       "<IPython.core.display.HTML object>"
      ]
     },
     "metadata": {},
     "output_type": "display_data"
    },
    {
     "name": "stderr",
     "output_type": "stream",
     "text": [
      "Sampling 8 chains for 1_000 tune and 5_000 draw iterations (8_000 + 40_000 draws total) took 5 seconds.\n"
     ]
    },
    {
     "name": "stdout",
     "output_type": "stream",
     "text": [
      "CPU times: user 7.41 s, sys: 357 ms, total: 7.77 s\n",
      "Wall time: 8.45 s\n"
     ]
    }
   ],
   "source": [
    "%%time\n",
    "with pm.Model() as model:\n",
    "    p = pm.Beta('theta',1,1)\n",
    "    likelihood = pm.Bernoulli('likelihood', p=p, observed=data2)\n",
    "    trace = pm.sample(draws=5000, tune=1000, cores=8)"
   ]
  },
  {
   "cell_type": "code",
   "execution_count": 10,
   "id": "4d622469-19a9-4d66-a0ea-809e588ce9fb",
   "metadata": {},
   "outputs": [
    {
     "name": "stderr",
     "output_type": "stream",
     "text": [
      "/home/junseop_yoon/anaconda3/envs/pymc3/lib/python3.7/site-packages/ipykernel_launcher.py:1: DeprecationWarning: The function `traceplot` from PyMC3 is just an alias for `plot_trace` from ArviZ. Please switch to `pymc3.plot_trace` or `arviz.plot_trace`.\n",
      "  \"\"\"Entry point for launching an IPython kernel.\n",
      "Got error No model on context stack. trying to find log_likelihood in translation.\n",
      "/home/junseop_yoon/anaconda3/envs/pymc3/lib/python3.7/site-packages/arviz/data/io_pymc3_3x.py:102: FutureWarning: Using `from_pymc3` without the model will be deprecated in a future release. Not using the model will return less accurate and less useful results. Make sure you use the model argument or call from_pymc3 within a model context.\n",
      "  FutureWarning,\n",
      "Got error No model on context stack. trying to find log_likelihood in translation.\n",
      "Got error No model on context stack. trying to find log_likelihood in translation.\n",
      "/home/junseop_yoon/anaconda3/envs/pymc3/lib/python3.7/site-packages/arviz/data/io_pymc3_3x.py:102: FutureWarning: Using `from_pymc3` without the model will be deprecated in a future release. Not using the model will return less accurate and less useful results. Make sure you use the model argument or call from_pymc3 within a model context.\n",
      "  FutureWarning,\n"
     ]
    },
    {
     "data": {
      "text/html": [
       "<div>\n",
       "<style scoped>\n",
       "    .dataframe tbody tr th:only-of-type {\n",
       "        vertical-align: middle;\n",
       "    }\n",
       "\n",
       "    .dataframe tbody tr th {\n",
       "        vertical-align: top;\n",
       "    }\n",
       "\n",
       "    .dataframe thead th {\n",
       "        text-align: right;\n",
       "    }\n",
       "</style>\n",
       "<table border=\"1\" class=\"dataframe\">\n",
       "  <thead>\n",
       "    <tr style=\"text-align: right;\">\n",
       "      <th></th>\n",
       "      <th>mean</th>\n",
       "      <th>sd</th>\n",
       "      <th>hdi_3%</th>\n",
       "      <th>hdi_97%</th>\n",
       "      <th>mcse_mean</th>\n",
       "      <th>mcse_sd</th>\n",
       "      <th>ess_bulk</th>\n",
       "      <th>ess_tail</th>\n",
       "      <th>r_hat</th>\n",
       "    </tr>\n",
       "  </thead>\n",
       "  <tbody>\n",
       "    <tr>\n",
       "      <th>theta</th>\n",
       "      <td>0.252</td>\n",
       "      <td>0.12</td>\n",
       "      <td>0.041</td>\n",
       "      <td>0.467</td>\n",
       "      <td>0.001</td>\n",
       "      <td>0.001</td>\n",
       "      <td>16343.0</td>\n",
       "      <td>22481.0</td>\n",
       "      <td>1.0</td>\n",
       "    </tr>\n",
       "  </tbody>\n",
       "</table>\n",
       "</div>"
      ],
      "text/plain": [
       "        mean    sd  hdi_3%  hdi_97%  mcse_mean  mcse_sd  ess_bulk  ess_tail  \\\n",
       "theta  0.252  0.12   0.041    0.467      0.001    0.001   16343.0   22481.0   \n",
       "\n",
       "       r_hat  \n",
       "theta    1.0  "
      ]
     },
     "execution_count": 10,
     "metadata": {},
     "output_type": "execute_result"
    },
    {
     "data": {
      "image/png": "[encoded data removed]",
      "text/plain": [
       "<Figure size 1200x200 with 2 Axes>"
      ]
     },
     "metadata": {},
     "output_type": "display_data"
    }
   ],
   "source": [
    "pm.traceplot(trace)\n",
    "pm.summary(trace)"
   ]
  },
  {
   "cell_type": "markdown",
   "id": "0a303423-4589-45e0-becf-0a6ce28972ba",
   "metadata": {
    "tags": []
   },
   "source": [
    "# CMDSTANPY"
   ]
  },
  {
   "cell_type": "code",
   "execution_count": 1,
   "id": "efe8c94a-9a1c-4357-aac8-b61b7d1afb9f",
   "metadata": {},
   "outputs": [],
   "source": [
    "import os\n",
    "from cmdstanpy.model import CmdStanModel\n",
    "from cmdstanpy.utils import cmdstan_path\n",
    "import pandas as pd\n",
    "import numpy as np\n",
    "import matplotlib.pyplot as plt"
   ]
  },
  {
   "cell_type": "code",
   "execution_count": null,
   "id": "e633380b-5796-4e7d-b216-638e097e3d7e",
   "metadata": {},
   "outputs": [],
   "source": [
    "'''\n",
    "stan file\n",
    "data {\n",
    "   int<lower=0> N;\n",
    "   int<lower=0,upper=1> y[N];\n",
    " }\n",
    " parameters {\n",
    "   real<lower=0,upper=1> theta;\n",
    " }\n",
    " model {\n",
    "   theta ~ beta(1,1);  // uniform prior on interval 0,1\n",
    "   y ~ bernoulli(theta);\n",
    " }\n",
    "'''"
   ]
  },
  {
   "cell_type": "code",
   "execution_count": 2,
   "id": "b8ccb5b5-0d1d-40f0-a9a2-63d9ee32b6a5",
   "metadata": {},
   "outputs": [],
   "source": [
    "data_input1 = {\n",
    "             \"N\" : 10,\n",
    "             \"y\" : [0,1,0,0,0,0,0,0,0,1]\n",
    "              }"
   ]
  },
  {
   "cell_type": "code",
   "execution_count": 3,
   "id": "d4eef6ed-3149-4069-b755-051c2d56e8a6",
   "metadata": {},
   "outputs": [],
   "source": [
    "data_input2 = {\n",
    "             \"N\" : 100,\n",
    "             \"y\" : [0,1,0,0,0,0,0,0,0,1\n",
    "                   ,0,1,0,0,0,0,0,0,0,1\n",
    "                   ,0,1,0,0,0,0,0,0,0,1\n",
    "                   ,0,1,0,0,0,0,0,0,0,1\n",
    "                   ,0,1,0,0,0,0,0,0,0,1\n",
    "                   ,0,1,0,0,0,0,0,0,0,1\n",
    "                   ,0,1,0,0,0,0,0,0,0,1\n",
    "                   ,0,1,0,0,0,0,0,0,0,1\n",
    "                   ,0,1,0,0,0,0,0,0,0,1\n",
    "                   ,0,1,0,0,0,0,0,0,0,1]\n",
    "              }"
   ]
  },
  {
   "cell_type": "markdown",
   "id": "39008b71-8853-4ce9-93d2-a397e27f94d1",
   "metadata": {
    "tags": []
   },
   "source": [
    "## STAN VI"
   ]
  },
  {
   "cell_type": "code",
   "execution_count": 4,
   "id": "7b1c9e8e-bd24-4734-89b9-9c241813e5d2",
   "metadata": {},
   "outputs": [
    {
     "name": "stderr",
     "output_type": "stream",
     "text": [
      "INFO:cmdstanpy:found newer exe file, not recompiling\n",
      "INFO:cmdstanpy:compiled model file: /mnt/c/temp/bf/zionexar/JS/data/bernoulli\n",
      "INFO:cmdstanpy:start chain 1\n",
      "INFO:cmdstanpy:finish chain 1\n"
     ]
    },
    {
     "name": "stdout",
     "output_type": "stream",
     "text": [
      "CPU times: user 7.87 ms, sys: 8.14 ms, total: 16 ms\n",
      "Wall time: 74.8 ms\n"
     ]
    }
   ],
   "source": [
    "%%time\n",
    "model1 = CmdStanModel(stan_file=os.path.join('data/bernoulli.stan'))\n",
    "vi1 = model1.variational(data=data_input1, require_converged=True)"
   ]
  },
  {
   "cell_type": "code",
   "execution_count": 6,
   "id": "865b93e9-3a23-4cd6-81f5-f58c36bf9b30",
   "metadata": {},
   "outputs": [
    {
     "data": {
      "text/plain": [
       "OrderedDict([('lp__', 0.0),\n",
       "             ('log_p__', 0.0),\n",
       "             ('log_g__', 0.0),\n",
       "             ('theta', 0.233694)])"
      ]
     },
     "execution_count": 6,
     "metadata": {},
     "output_type": "execute_result"
    }
   ],
   "source": [
    "vi1.variational_params_dict"
   ]
  },
  {
   "cell_type": "code",
   "execution_count": 7,
   "id": "3a530630-f699-44e5-8861-ef7b05d447ae",
   "metadata": {},
   "outputs": [
    {
     "data": {
      "text/html": [
       "<div>\n",
       "<style scoped>\n",
       "    .dataframe tbody tr th:only-of-type {\n",
       "        vertical-align: middle;\n",
       "    }\n",
       "\n",
       "    .dataframe tbody tr th {\n",
       "        vertical-align: top;\n",
       "    }\n",
       "\n",
       "    .dataframe thead th {\n",
       "        text-align: right;\n",
       "    }\n",
       "</style>\n",
       "<table border=\"1\" class=\"dataframe\">\n",
       "  <thead>\n",
       "    <tr style=\"text-align: right;\">\n",
       "      <th></th>\n",
       "      <th>0</th>\n",
       "      <th>1</th>\n",
       "      <th>2</th>\n",
       "      <th>3</th>\n",
       "    </tr>\n",
       "  </thead>\n",
       "  <tbody>\n",
       "    <tr>\n",
       "      <th>0</th>\n",
       "      <td>0</td>\n",
       "      <td>-7.22187</td>\n",
       "      <td>-0.441339</td>\n",
       "      <td>0.382516</td>\n",
       "    </tr>\n",
       "    <tr>\n",
       "      <th>1</th>\n",
       "      <td>0</td>\n",
       "      <td>-6.97094</td>\n",
       "      <td>-0.123421</td>\n",
       "      <td>0.173312</td>\n",
       "    </tr>\n",
       "    <tr>\n",
       "      <th>2</th>\n",
       "      <td>0</td>\n",
       "      <td>-7.15326</td>\n",
       "      <td>-0.387137</td>\n",
       "      <td>0.371958</td>\n",
       "    </tr>\n",
       "    <tr>\n",
       "      <th>3</th>\n",
       "      <td>0</td>\n",
       "      <td>-6.75547</td>\n",
       "      <td>-0.000043</td>\n",
       "      <td>0.234950</td>\n",
       "    </tr>\n",
       "    <tr>\n",
       "      <th>4</th>\n",
       "      <td>0</td>\n",
       "      <td>-6.78566</td>\n",
       "      <td>-0.063690</td>\n",
       "      <td>0.285294</td>\n",
       "    </tr>\n",
       "    <tr>\n",
       "      <th>...</th>\n",
       "      <td>...</td>\n",
       "      <td>...</td>\n",
       "      <td>...</td>\n",
       "      <td>...</td>\n",
       "    </tr>\n",
       "    <tr>\n",
       "      <th>995</th>\n",
       "      <td>0</td>\n",
       "      <td>-6.78586</td>\n",
       "      <td>-0.063914</td>\n",
       "      <td>0.285390</td>\n",
       "    </tr>\n",
       "    <tr>\n",
       "      <th>996</th>\n",
       "      <td>0</td>\n",
       "      <td>-7.36026</td>\n",
       "      <td>-0.435263</td>\n",
       "      <td>0.131090</td>\n",
       "    </tr>\n",
       "    <tr>\n",
       "      <th>997</th>\n",
       "      <td>0</td>\n",
       "      <td>-6.74978</td>\n",
       "      <td>-0.014484</td>\n",
       "      <td>0.257466</td>\n",
       "    </tr>\n",
       "    <tr>\n",
       "      <th>998</th>\n",
       "      <td>0</td>\n",
       "      <td>-6.89045</td>\n",
       "      <td>-0.166435</td>\n",
       "      <td>0.320305</td>\n",
       "    </tr>\n",
       "    <tr>\n",
       "      <th>999</th>\n",
       "      <td>0</td>\n",
       "      <td>-8.00121</td>\n",
       "      <td>-1.017030</td>\n",
       "      <td>0.472089</td>\n",
       "    </tr>\n",
       "  </tbody>\n",
       "</table>\n",
       "<p>1000 rows × 4 columns</p>\n",
       "</div>"
      ],
      "text/plain": [
       "     0        1         2         3\n",
       "0    0 -7.22187 -0.441339  0.382516\n",
       "1    0 -6.97094 -0.123421  0.173312\n",
       "2    0 -7.15326 -0.387137  0.371958\n",
       "3    0 -6.75547 -0.000043  0.234950\n",
       "4    0 -6.78566 -0.063690  0.285294\n",
       "..  ..      ...       ...       ...\n",
       "995  0 -6.78586 -0.063914  0.285390\n",
       "996  0 -7.36026 -0.435263  0.131090\n",
       "997  0 -6.74978 -0.014484  0.257466\n",
       "998  0 -6.89045 -0.166435  0.320305\n",
       "999  0 -8.00121 -1.017030  0.472089\n",
       "\n",
       "[1000 rows x 4 columns]"
      ]
     },
     "execution_count": 7,
     "metadata": {},
     "output_type": "execute_result"
    }
   ],
   "source": [
    "vi1.variational_sample"
   ]
  },
  {
   "cell_type": "code",
   "execution_count": 55,
   "id": "1f4ecd83-2166-4ec2-a68a-430c548b3e56",
   "metadata": {},
   "outputs": [],
   "source": [
    "vi.save_csvfiles('data/bernoulli.csv')"
   ]
  },
  {
   "cell_type": "code",
   "execution_count": 8,
   "id": "792298cc-d403-448f-b99f-4987a41a9d60",
   "metadata": {},
   "outputs": [
    {
     "name": "stderr",
     "output_type": "stream",
     "text": [
      "INFO:cmdstanpy:found newer exe file, not recompiling\n",
      "INFO:cmdstanpy:compiled model file: /mnt/c/temp/bf/zionexar/JS/data/bernoulli\n",
      "INFO:cmdstanpy:start chain 1\n",
      "INFO:cmdstanpy:finish chain 1\n"
     ]
    },
    {
     "name": "stdout",
     "output_type": "stream",
     "text": [
      "CPU times: user 6.25 ms, sys: 6.84 ms, total: 13.1 ms\n",
      "Wall time: 49 ms\n"
     ]
    }
   ],
   "source": [
    "%%time\n",
    "model2 = CmdStanModel(stan_file=os.path.join('data/bernoulli.stan'))\n",
    "vi2 = model2.variational(data=data_input2, require_converged=True)"
   ]
  },
  {
   "cell_type": "code",
   "execution_count": 9,
   "id": "25a5ab63-1841-40fe-a813-e470354af5cc",
   "metadata": {},
   "outputs": [
    {
     "data": {
      "text/plain": [
       "OrderedDict([('lp__', 0.0),\n",
       "             ('log_p__', 0.0),\n",
       "             ('log_g__', 0.0),\n",
       "             ('theta', 0.207247)])"
      ]
     },
     "execution_count": 9,
     "metadata": {},
     "output_type": "execute_result"
    }
   ],
   "source": [
    "vi2.variational_params_dict"
   ]
  },
  {
   "cell_type": "code",
   "execution_count": 10,
   "id": "62adf702-1ff6-4682-852d-579dc7bdb041",
   "metadata": {},
   "outputs": [
    {
     "data": {
      "text/html": [
       "<div>\n",
       "<style scoped>\n",
       "    .dataframe tbody tr th:only-of-type {\n",
       "        vertical-align: middle;\n",
       "    }\n",
       "\n",
       "    .dataframe tbody tr th {\n",
       "        vertical-align: top;\n",
       "    }\n",
       "\n",
       "    .dataframe thead th {\n",
       "        text-align: right;\n",
       "    }\n",
       "</style>\n",
       "<table border=\"1\" class=\"dataframe\">\n",
       "  <thead>\n",
       "    <tr style=\"text-align: right;\">\n",
       "      <th></th>\n",
       "      <th>0</th>\n",
       "      <th>1</th>\n",
       "      <th>2</th>\n",
       "      <th>3</th>\n",
       "    </tr>\n",
       "  </thead>\n",
       "  <tbody>\n",
       "    <tr>\n",
       "      <th>0</th>\n",
       "      <td>0</td>\n",
       "      <td>-51.9759</td>\n",
       "      <td>-0.131016</td>\n",
       "      <td>0.187209</td>\n",
       "    </tr>\n",
       "    <tr>\n",
       "      <th>1</th>\n",
       "      <td>0</td>\n",
       "      <td>-51.8776</td>\n",
       "      <td>-0.022056</td>\n",
       "      <td>0.198839</td>\n",
       "    </tr>\n",
       "    <tr>\n",
       "      <th>2</th>\n",
       "      <td>0</td>\n",
       "      <td>-52.8042</td>\n",
       "      <td>-0.824099</td>\n",
       "      <td>0.264254</td>\n",
       "    </tr>\n",
       "    <tr>\n",
       "      <th>3</th>\n",
       "      <td>0</td>\n",
       "      <td>-51.9588</td>\n",
       "      <td>-0.112424</td>\n",
       "      <td>0.188633</td>\n",
       "    </tr>\n",
       "    <tr>\n",
       "      <th>4</th>\n",
       "      <td>0</td>\n",
       "      <td>-52.0836</td>\n",
       "      <td>-0.247552</td>\n",
       "      <td>0.180097</td>\n",
       "    </tr>\n",
       "    <tr>\n",
       "      <th>...</th>\n",
       "      <td>...</td>\n",
       "      <td>...</td>\n",
       "      <td>...</td>\n",
       "      <td>...</td>\n",
       "    </tr>\n",
       "    <tr>\n",
       "      <th>995</th>\n",
       "      <td>0</td>\n",
       "      <td>-52.0544</td>\n",
       "      <td>-0.163411</td>\n",
       "      <td>0.231446</td>\n",
       "    </tr>\n",
       "    <tr>\n",
       "      <th>996</th>\n",
       "      <td>0</td>\n",
       "      <td>-52.1729</td>\n",
       "      <td>-0.344272</td>\n",
       "      <td>0.175535</td>\n",
       "    </tr>\n",
       "    <tr>\n",
       "      <th>997</th>\n",
       "      <td>0</td>\n",
       "      <td>-52.2421</td>\n",
       "      <td>-0.419332</td>\n",
       "      <td>0.172477</td>\n",
       "    </tr>\n",
       "    <tr>\n",
       "      <th>998</th>\n",
       "      <td>0</td>\n",
       "      <td>-51.8796</td>\n",
       "      <td>-0.024363</td>\n",
       "      <td>0.198417</td>\n",
       "    </tr>\n",
       "    <tr>\n",
       "      <th>999</th>\n",
       "      <td>0</td>\n",
       "      <td>-51.9535</td>\n",
       "      <td>-0.106598</td>\n",
       "      <td>0.189105</td>\n",
       "    </tr>\n",
       "  </tbody>\n",
       "</table>\n",
       "<p>1000 rows × 4 columns</p>\n",
       "</div>"
      ],
      "text/plain": [
       "     0        1         2         3\n",
       "0    0 -51.9759 -0.131016  0.187209\n",
       "1    0 -51.8776 -0.022056  0.198839\n",
       "2    0 -52.8042 -0.824099  0.264254\n",
       "3    0 -51.9588 -0.112424  0.188633\n",
       "4    0 -52.0836 -0.247552  0.180097\n",
       "..  ..      ...       ...       ...\n",
       "995  0 -52.0544 -0.163411  0.231446\n",
       "996  0 -52.1729 -0.344272  0.175535\n",
       "997  0 -52.2421 -0.419332  0.172477\n",
       "998  0 -51.8796 -0.024363  0.198417\n",
       "999  0 -51.9535 -0.106598  0.189105\n",
       "\n",
       "[1000 rows x 4 columns]"
      ]
     },
     "execution_count": 10,
     "metadata": {},
     "output_type": "execute_result"
    }
   ],
   "source": [
    "vi2.variational_sample"
   ]
  },
  {
   "cell_type": "markdown",
   "id": "50ba6d73-31db-483e-b2ae-f5a2ec62b639",
   "metadata": {
    "tags": []
   },
   "source": [
    "## STAN MLE"
   ]
  },
  {
   "cell_type": "code",
   "execution_count": 11,
   "id": "0ca12c0b-96d3-4254-b844-a4a0a539a6dd",
   "metadata": {},
   "outputs": [
    {
     "name": "stderr",
     "output_type": "stream",
     "text": [
      "INFO:cmdstanpy:found newer exe file, not recompiling\n",
      "INFO:cmdstanpy:compiled model file: /mnt/c/temp/bf/zionexar/JS/data/bernoulli\n",
      "INFO:cmdstanpy:start chain 1\n",
      "INFO:cmdstanpy:finish chain 1\n"
     ]
    },
    {
     "name": "stdout",
     "output_type": "stream",
     "text": [
      "CPU times: user 5.56 ms, sys: 4.59 ms, total: 10.1 ms\n",
      "Wall time: 37.3 ms\n"
     ]
    }
   ],
   "source": [
    "%%time\n",
    "model1 = CmdStanModel(stan_file=os.path.join('data/bernoulli.stan'))\n",
    "mle1 = model1.optimize(data=data_input1, seed=1, iter=3000)"
   ]
  },
  {
   "cell_type": "code",
   "execution_count": 12,
   "id": "d2becb6e-bf7a-4bf9-8001-2ff6434d8885",
   "metadata": {},
   "outputs": [
    {
     "data": {
      "text/plain": [
       "OrderedDict([('lp__', -5.00402), ('theta', 0.200001)])"
      ]
     },
     "execution_count": 12,
     "metadata": {},
     "output_type": "execute_result"
    }
   ],
   "source": [
    "mle1.optimized_params_dict"
   ]
  },
  {
   "cell_type": "code",
   "execution_count": 13,
   "id": "a9f8e4b5-f8d2-49f2-82fd-3d67d410311f",
   "metadata": {},
   "outputs": [
    {
     "name": "stderr",
     "output_type": "stream",
     "text": [
      "INFO:cmdstanpy:found newer exe file, not recompiling\n",
      "INFO:cmdstanpy:compiled model file: /mnt/c/temp/bf/zionexar/JS/data/bernoulli\n",
      "INFO:cmdstanpy:start chain 1\n",
      "INFO:cmdstanpy:finish chain 1\n"
     ]
    },
    {
     "name": "stdout",
     "output_type": "stream",
     "text": [
      "CPU times: user 0 ns, sys: 9.47 ms, total: 9.47 ms\n",
      "Wall time: 37.4 ms\n"
     ]
    }
   ],
   "source": [
    "%%time\n",
    "model2 = CmdStanModel(stan_file=os.path.join('data/bernoulli.stan'))\n",
    "mle2 = model2.optimize(data=data_input2, seed=1, iter=3000)"
   ]
  },
  {
   "cell_type": "code",
   "execution_count": 14,
   "id": "7825595c-4bbb-46ca-96dc-6570aa8f2c90",
   "metadata": {},
   "outputs": [
    {
     "data": {
      "text/plain": [
       "OrderedDict([('lp__', -50.0402), ('theta', 0.200001)])"
      ]
     },
     "execution_count": 14,
     "metadata": {},
     "output_type": "execute_result"
    }
   ],
   "source": [
    "mle2.optimized_params_dict"
   ]
  },
  {
   "cell_type": "markdown",
   "id": "cf7a819a-26c6-4847-a1ae-57a257cce284",
   "metadata": {
    "tags": []
   },
   "source": [
    "## STAN MCMC"
   ]
  },
  {
   "cell_type": "code",
   "execution_count": 17,
   "id": "34bcccd4-cace-4954-af13-02d2d5fccb8b",
   "metadata": {},
   "outputs": [
    {
     "name": "stderr",
     "output_type": "stream",
     "text": [
      "INFO:cmdstanpy:found newer exe file, not recompiling\n",
      "INFO:cmdstanpy:compiled model file: /mnt/c/temp/bf/zionexar/JS/data/bernoulli\n",
      "INFO:cmdstanpy:start chain 1\n",
      "INFO:cmdstanpy:start chain 2\n",
      "INFO:cmdstanpy:start chain 3\n",
      "INFO:cmdstanpy:start chain 4\n",
      "INFO:cmdstanpy:finish chain 4\n",
      "INFO:cmdstanpy:finish chain 2\n",
      "INFO:cmdstanpy:finish chain 3\n",
      "INFO:cmdstanpy:finish chain 1\n"
     ]
    },
    {
     "name": "stdout",
     "output_type": "stream",
     "text": [
      "CPU times: user 24.2 ms, sys: 23.5 ms, total: 47.7 ms\n",
      "Wall time: 56.6 ms\n"
     ]
    }
   ],
   "source": [
    "%%time\n",
    "model1 = CmdStanModel(stan_file=os.path.join('data/bernoulli.stan'))\n",
    "MCMC1 = model1.sample(data=data_input1)"
   ]
  },
  {
   "cell_type": "code",
   "execution_count": 18,
   "id": "0b1216ea-717e-45fb-8dd1-c0edfa82d995",
   "metadata": {},
   "outputs": [
    {
     "data": {
      "text/html": [
       "<div>\n",
       "<style scoped>\n",
       "    .dataframe tbody tr th:only-of-type {\n",
       "        vertical-align: middle;\n",
       "    }\n",
       "\n",
       "    .dataframe tbody tr th {\n",
       "        vertical-align: top;\n",
       "    }\n",
       "\n",
       "    .dataframe thead th {\n",
       "        text-align: right;\n",
       "    }\n",
       "</style>\n",
       "<table border=\"1\" class=\"dataframe\">\n",
       "  <thead>\n",
       "    <tr style=\"text-align: right;\">\n",
       "      <th></th>\n",
       "      <th>Mean</th>\n",
       "      <th>MCSE</th>\n",
       "      <th>StdDev</th>\n",
       "      <th>5%</th>\n",
       "      <th>50%</th>\n",
       "      <th>95%</th>\n",
       "      <th>N_Eff</th>\n",
       "      <th>N_Eff/s</th>\n",
       "      <th>R_hat</th>\n",
       "    </tr>\n",
       "    <tr>\n",
       "      <th>name</th>\n",
       "      <th></th>\n",
       "      <th></th>\n",
       "      <th></th>\n",
       "      <th></th>\n",
       "      <th></th>\n",
       "      <th></th>\n",
       "      <th></th>\n",
       "      <th></th>\n",
       "      <th></th>\n",
       "    </tr>\n",
       "  </thead>\n",
       "  <tbody>\n",
       "    <tr>\n",
       "      <th>lp__</th>\n",
       "      <td>-7.30</td>\n",
       "      <td>0.0210</td>\n",
       "      <td>0.78</td>\n",
       "      <td>-8.800</td>\n",
       "      <td>-7.00</td>\n",
       "      <td>-6.70</td>\n",
       "      <td>1400.0</td>\n",
       "      <td>64000.0</td>\n",
       "      <td>1.0</td>\n",
       "    </tr>\n",
       "    <tr>\n",
       "      <th>theta</th>\n",
       "      <td>0.25</td>\n",
       "      <td>0.0032</td>\n",
       "      <td>0.12</td>\n",
       "      <td>0.078</td>\n",
       "      <td>0.24</td>\n",
       "      <td>0.47</td>\n",
       "      <td>1400.0</td>\n",
       "      <td>66000.0</td>\n",
       "      <td>1.0</td>\n",
       "    </tr>\n",
       "  </tbody>\n",
       "</table>\n",
       "</div>"
      ],
      "text/plain": [
       "       Mean    MCSE  StdDev     5%   50%   95%   N_Eff  N_Eff/s  R_hat\n",
       "name                                                                  \n",
       "lp__  -7.30  0.0210    0.78 -8.800 -7.00 -6.70  1400.0  64000.0    1.0\n",
       "theta  0.25  0.0032    0.12  0.078  0.24  0.47  1400.0  66000.0    1.0"
      ]
     },
     "execution_count": 18,
     "metadata": {},
     "output_type": "execute_result"
    }
   ],
   "source": [
    "MCMC1.summary()"
   ]
  },
  {
   "cell_type": "code",
   "execution_count": 19,
   "id": "54d29833-d3cf-4583-a79b-2f4954361805",
   "metadata": {},
   "outputs": [
    {
     "name": "stderr",
     "output_type": "stream",
     "text": [
      "INFO:cmdstanpy:found newer exe file, not recompiling\n",
      "INFO:cmdstanpy:compiled model file: /mnt/c/temp/bf/zionexar/JS/data/bernoulli\n",
      "INFO:cmdstanpy:start chain 1\n",
      "INFO:cmdstanpy:start chain 2\n",
      "INFO:cmdstanpy:start chain 3\n",
      "INFO:cmdstanpy:start chain 4\n",
      "INFO:cmdstanpy:finish chain 2\n",
      "INFO:cmdstanpy:finish chain 4\n",
      "INFO:cmdstanpy:finish chain 1\n",
      "INFO:cmdstanpy:finish chain 3\n"
     ]
    },
    {
     "name": "stdout",
     "output_type": "stream",
     "text": [
      "CPU times: user 29.5 ms, sys: 17.5 ms, total: 47 ms\n",
      "Wall time: 55.2 ms\n"
     ]
    }
   ],
   "source": [
    "%%time\n",
    "model2 = CmdStanModel(stan_file=os.path.join('data/bernoulli.stan'))\n",
    "MCMC2 = model2.sample(data=data_input2)"
   ]
  },
  {
   "cell_type": "code",
   "execution_count": 20,
   "id": "83f265d6-92f0-4e80-9c8e-a33f7467159b",
   "metadata": {},
   "outputs": [
    {
     "data": {
      "text/html": [
       "<div>\n",
       "<style scoped>\n",
       "    .dataframe tbody tr th:only-of-type {\n",
       "        vertical-align: middle;\n",
       "    }\n",
       "\n",
       "    .dataframe tbody tr th {\n",
       "        vertical-align: top;\n",
       "    }\n",
       "\n",
       "    .dataframe thead th {\n",
       "        text-align: right;\n",
       "    }\n",
       "</style>\n",
       "<table border=\"1\" class=\"dataframe\">\n",
       "  <thead>\n",
       "    <tr style=\"text-align: right;\">\n",
       "      <th></th>\n",
       "      <th>Mean</th>\n",
       "      <th>MCSE</th>\n",
       "      <th>StdDev</th>\n",
       "      <th>5%</th>\n",
       "      <th>50%</th>\n",
       "      <th>95%</th>\n",
       "      <th>N_Eff</th>\n",
       "      <th>N_Eff/s</th>\n",
       "      <th>R_hat</th>\n",
       "    </tr>\n",
       "    <tr>\n",
       "      <th>name</th>\n",
       "      <th></th>\n",
       "      <th></th>\n",
       "      <th></th>\n",
       "      <th></th>\n",
       "      <th></th>\n",
       "      <th></th>\n",
       "      <th></th>\n",
       "      <th></th>\n",
       "      <th></th>\n",
       "    </tr>\n",
       "  </thead>\n",
       "  <tbody>\n",
       "    <tr>\n",
       "      <th>lp__</th>\n",
       "      <td>-52.00</td>\n",
       "      <td>0.0180</td>\n",
       "      <td>0.710</td>\n",
       "      <td>-54.00</td>\n",
       "      <td>-52.0</td>\n",
       "      <td>-52.00</td>\n",
       "      <td>1600.0</td>\n",
       "      <td>71000.0</td>\n",
       "      <td>1.0</td>\n",
       "    </tr>\n",
       "    <tr>\n",
       "      <th>theta</th>\n",
       "      <td>0.21</td>\n",
       "      <td>0.0011</td>\n",
       "      <td>0.039</td>\n",
       "      <td>0.14</td>\n",
       "      <td>0.2</td>\n",
       "      <td>0.27</td>\n",
       "      <td>1400.0</td>\n",
       "      <td>63000.0</td>\n",
       "      <td>1.0</td>\n",
       "    </tr>\n",
       "  </tbody>\n",
       "</table>\n",
       "</div>"
      ],
      "text/plain": [
       "        Mean    MCSE  StdDev     5%   50%    95%   N_Eff  N_Eff/s  R_hat\n",
       "name                                                                    \n",
       "lp__  -52.00  0.0180   0.710 -54.00 -52.0 -52.00  1600.0  71000.0    1.0\n",
       "theta   0.21  0.0011   0.039   0.14   0.2   0.27  1400.0  63000.0    1.0"
      ]
     },
     "execution_count": 20,
     "metadata": {},
     "output_type": "execute_result"
    }
   ],
   "source": [
    "MCMC2.summary()"
   ]
  },
  {
   "cell_type": "markdown",
   "id": "90c726d3-d203-4481-b1fd-1eca49b61092",
   "metadata": {
    "tags": []
   },
   "source": [
    "# PYRO"
   ]
  },
  {
   "cell_type": "code",
   "execution_count": 10,
   "id": "e1a67ff5-d853-428e-b457-ec5eaf4b762c",
   "metadata": {},
   "outputs": [
    {
     "data": {
      "text/plain": [
       "<torch._C.Generator at 0x7f3bdf14cfd0>"
      ]
     },
     "execution_count": 10,
     "metadata": {},
     "output_type": "execute_result"
    }
   ],
   "source": [
    "import pyro\n",
    "import pyro.distributions as dist\n",
    "import torch\n",
    "from pyro.infer import SVI, Trace_ELBO, TraceEnum_ELBO, config_enumerate\n",
    "from pyro.optim import Adam\n",
    "from pyro.infer.mcmc.hmc import HMC\n",
    "from pyro.infer import MCMC, NUTS\n",
    "from torch.distributions import constraints\n",
    "\n",
    "# Setting manual seed for reproducibility\n",
    "torch.manual_seed(1)"
   ]
  },
  {
   "cell_type": "code",
   "execution_count": 2,
   "id": "88ec960b-337c-4f5c-a9ce-a1c83cf26d3a",
   "metadata": {},
   "outputs": [],
   "source": [
    "data1 = torch.FloatTensor([0,1,0,0,0,0,0,0,0,1])"
   ]
  },
  {
   "cell_type": "code",
   "execution_count": 3,
   "id": "5ccf4b72-da8c-4c5b-b33f-e6e1cc262e34",
   "metadata": {},
   "outputs": [],
   "source": [
    "data2 = torch.FloatTensor([0,1,0,0,0,0,0,0,0,1,\n",
    "                          0,1,0,0,0,0,0,0,0,1,\n",
    "                          0,1,0,0,0,0,0,0,0,1,\n",
    "                          0,1,0,0,0,0,0,0,0,1,\n",
    "                          0,1,0,0,0,0,0,0,0,1,\n",
    "                          0,1,0,0,0,0,0,0,0,1,\n",
    "                          0,1,0,0,0,0,0,0,0,1,\n",
    "                          0,1,0,0,0,0,0,0,0,1,\n",
    "                          0,1,0,0,0,0,0,0,0,1,\n",
    "                          0,1,0,0,0,0,0,0,0,1\n",
    "                          ])"
   ]
  },
  {
   "cell_type": "markdown",
   "id": "274cb865-fa73-4cb9-b4da-e3dc5821504c",
   "metadata": {},
   "source": [
    "## VI"
   ]
  },
  {
   "cell_type": "code",
   "execution_count": 414,
   "id": "7ba63643-6667-45c4-871a-d3f978413c1e",
   "metadata": {
    "tags": []
   },
   "outputs": [
    {
     "name": "stdout",
     "output_type": "stream",
     "text": [
      "steps : 0 loss : 5.205878734588623\n",
      "steps : 1000 loss : 6.338561788201332\n",
      "steps : 2000 loss : 6.1539918184280396\n",
      "steps : 3000 loss : 8.569439351558685\n",
      "steps : 4000 loss : 5.573679804801941\n",
      "0.27862197160720825\n",
      "CPU times: user 5.93 s, sys: 9.95 ms, total: 5.94 s\n",
      "Wall time: 5.94 s\n"
     ]
    }
   ],
   "source": [
    "%%time\n",
    "pyro.clear_param_store()\n",
    "def model(data):\n",
    "    theta = pyro.sample('theta', dist.Beta(torch.tensor(1.0),torch.tensor(1.0)))\n",
    "    # for i in range(len(data)):\n",
    "    #     pyro.sample('y_{}'.format(i), dist.Bernoulli(theta).to_event(0), obs=data[i])\n",
    "    with pyro.plate('data', data.size()[0]):\n",
    "        pyro.sample(\"y\", dist.Bernoulli(theta), obs=data1)\n",
    "        \n",
    "def guide(data):\n",
    "    y0 = pyro.param('y0', torch.tensor(0.0), constraint=constraints.positive)\n",
    "    y1 = pyro.param('y1', torch.tensor(1.0), constraint=constraints.positive)\n",
    "    pyro.sample(\"theta\", dist.Uniform(y0, y1))\n",
    "    \n",
    "adam_params = {\"lr\": 0.0005, \"betas\": (0.90, 0.999)}\n",
    "optimizer = Adam(adam_params)\n",
    "svi = SVI(model, guide, optimizer, loss=Trace_ELBO())\n",
    "\n",
    "n_steps = 5000\n",
    "# do gradient steps\n",
    "for step in range(n_steps):\n",
    "    loss = svi.step(data)\n",
    "    if (step % 1000 == 0):\n",
    "        print('steps :', step, 'loss :', loss)\n",
    "        \n",
    "y0 = pyro.param('y0').item()\n",
    "y1 = pyro.param('y1').item()\n",
    "mean = (y0+y1) / 2\n",
    "print(mean)"
   ]
  },
  {
   "cell_type": "code",
   "execution_count": 419,
   "id": "35880ea2-5261-4ba3-95e8-0931134410c1",
   "metadata": {},
   "outputs": [
    {
     "name": "stdout",
     "output_type": "stream",
     "text": [
      "steps : 0 loss : 55.20122528076172\n",
      "steps : 1000 loss : 165.63504700362682\n",
      "steps : 2000 loss : 71.52685353159904\n",
      "steps : 3000 loss : 82.18908202648163\n",
      "steps : 4000 loss : 50.57788127660751\n",
      "0.2704430818557739\n",
      "CPU times: user 6.04 s, sys: 0 ns, total: 6.04 s\n",
      "Wall time: 6.03 s\n"
     ]
    }
   ],
   "source": [
    "%%time\n",
    "pyro.clear_param_store()\n",
    "def model(data):\n",
    "    theta = pyro.sample('theta', dist.Beta(torch.tensor(1.0),torch.tensor(1.0)))\n",
    "    # for i in range(len(data)):\n",
    "    #     pyro.sample('y_{}'.format(i), dist.Bernoulli(theta).to_event(0), obs=data[i])\n",
    "    with pyro.plate('data', data2.size()[0]):\n",
    "        pyro.sample(\"y\", dist.Bernoulli(theta), obs=data2)\n",
    "        \n",
    "def guide(data):\n",
    "    y0 = pyro.param('y0', torch.tensor(0.0), constraint=constraints.positive)\n",
    "    y1 = pyro.param('y1', torch.tensor(1.0), constraint=constraints.positive)\n",
    "    pyro.sample(\"theta\", dist.Uniform(y0, y1))\n",
    "    \n",
    "adam_params = {\"lr\": 0.0005, \"betas\": (0.90, 0.999)}\n",
    "optimizer = Adam(adam_params)\n",
    "svi = SVI(model, guide, optimizer, loss=Trace_ELBO())\n",
    "\n",
    "n_steps = 5000\n",
    "# do gradient steps\n",
    "for step in range(n_steps):\n",
    "    loss = svi.step(data)\n",
    "    if (step % 1000 == 0):\n",
    "        print('steps :', step, 'loss :', loss)\n",
    "        \n",
    "y0 = pyro.param('y0').item()\n",
    "y1 = pyro.param('y1').item()\n",
    "mean = (y0+y1) / 2\n",
    "print(mean)"
   ]
  },
  {
   "cell_type": "code",
   "execution_count": 420,
   "id": "d6ec042c-179b-4612-8016-749d8a15f82f",
   "metadata": {},
   "outputs": [
    {
     "name": "stdout",
     "output_type": "stream",
     "text": [
      "steps : 0 loss : 51.40572738647461\n",
      "steps : 10000 loss : 56.939433097839355\n",
      "steps : 20000 loss : 57.71254110336304\n",
      "steps : 30000 loss : 51.76440757513046\n",
      "steps : 40000 loss : 53.768271684646606\n",
      "0.1956021636724472\n",
      "CPU times: user 1min 6s, sys: 0 ns, total: 1min 6s\n",
      "Wall time: 1min 6s\n"
     ]
    }
   ],
   "source": [
    "%%time\n",
    "pyro.clear_param_store()\n",
    "def model(data):\n",
    "    theta = pyro.sample('theta', dist.Beta(torch.tensor(1.0),torch.tensor(1.0)))\n",
    "    # for i in range(len(data)):\n",
    "    #     pyro.sample('y_{}'.format(i), dist.Bernoulli(theta).to_event(0), obs=data[i])\n",
    "    with pyro.plate('data', data2.size()[0]):\n",
    "        pyro.sample(\"y\", dist.Bernoulli(theta), obs=data2)\n",
    "        \n",
    "def guide(data):\n",
    "    y0 = pyro.param('y0', torch.tensor(0.0), constraint=constraints.positive)\n",
    "    y1 = pyro.param('y1', torch.tensor(1.0), constraint=constraints.positive)\n",
    "    pyro.sample(\"theta\", dist.Uniform(y0, y1))\n",
    "    \n",
    "adam_params = {\"lr\": 0.0005, \"betas\": (0.90, 0.999)}\n",
    "optimizer = Adam(adam_params)\n",
    "svi = SVI(model, guide, optimizer, loss=Trace_ELBO())\n",
    "\n",
    "n_steps = 50000\n",
    "# do gradient steps\n",
    "for step in range(n_steps):\n",
    "    loss = svi.step(data)\n",
    "    if (step % 10000 == 0):\n",
    "        print('steps :', step, 'loss :', loss)\n",
    "        \n",
    "y0 = pyro.param('y0').item()\n",
    "y1 = pyro.param('y1').item()\n",
    "mean = (y0+y1) / 2\n",
    "print(mean)"
   ]
  },
  {
   "cell_type": "code",
   "execution_count": 425,
   "id": "a9437cee-381c-4b4b-8bb2-2f10726e42fb",
   "metadata": {},
   "outputs": [
    {
     "data": {
      "text/plain": [
       "0.2"
      ]
     },
     "execution_count": 425,
     "metadata": {},
     "output_type": "execute_result"
    }
   ],
   "source": [
    "data2.numpy().mean()"
   ]
  },
  {
   "cell_type": "markdown",
   "id": "3e2cb926-2c08-4dcd-9775-ad049e871fb7",
   "metadata": {},
   "source": [
    "## MCMC"
   ]
  },
  {
   "cell_type": "code",
   "execution_count": 4,
   "id": "bc1dfd38-b30c-4233-ad55-6f3907f9da08",
   "metadata": {},
   "outputs": [
    {
     "name": "stdout",
     "output_type": "stream",
     "text": [
      "CPU times: user 5 µs, sys: 1 µs, total: 6 µs\n",
      "Wall time: 8.11 µs\n"
     ]
    }
   ],
   "source": [
    "%%time\n",
    "pyro.clear_param_store()\n",
    "def model(data):\n",
    "    theta = pyro.sample('theta', dist.Beta(torch.tensor(1.0),torch.tensor(1.0)))\n",
    "    # for i in range(len(data)):\n",
    "    #     pyro.sample('y_{}'.format(i), dist.Bernoulli(theta).to_event(0), obs=data[i])\n",
    "    with pyro.plate('data', data.size()[0]):\n",
    "        pyro.sample(\"y\", dist.Bernoulli(theta), obs=data1)\n",
    "        \n",
    "def guide(data):\n",
    "    y0 = pyro.param('y0', torch.tensor(0.0), constraint=constraints.positive)\n",
    "    y1 = pyro.param('y1', torch.tensor(1.0), constraint=constraints.positive)\n",
    "    pyro.sample(\"theta\", dist.Uniform(y0, y1))"
   ]
  },
  {
   "cell_type": "code",
   "execution_count": 37,
   "id": "a4c9359a-e943-46eb-a47e-49eff958d584",
   "metadata": {},
   "outputs": [
    {
     "name": "stderr",
     "output_type": "stream",
     "text": [
      "Sample: 100%|█████████████████████████████████████| 10000/10000 [00:22, 447.59it/s, step size=8.99e-01, acc. prob=0.927]"
     ]
    },
    {
     "name": "stdout",
     "output_type": "stream",
     "text": [
      "0.25068325\n",
      "CPU times: user 22.3 s, sys: 150 ms, total: 22.5 s\n",
      "Wall time: 22.3 s\n"
     ]
    },
    {
     "name": "stderr",
     "output_type": "stream",
     "text": [
      "\n"
     ]
    }
   ],
   "source": [
    "%%time\n",
    "\n",
    "nuts_kernel = NUTS(model)\n",
    "mcmc = MCMC(nuts_kernel, num_samples=5000)\n",
    "mcmc.run(data1)\n",
    "samples = mcmc.get_samples()\n",
    "\n",
    "print(samples['theta'].numpy().mean())"
   ]
  },
  {
   "cell_type": "code",
   "execution_count": 38,
   "id": "b246ec9d-bdb3-4083-93bc-b8bdbf142473",
   "metadata": {},
   "outputs": [
    {
     "name": "stdout",
     "output_type": "stream",
     "text": [
      "CPU times: user 8 µs, sys: 0 ns, total: 8 µs\n",
      "Wall time: 9.3 µs\n"
     ]
    }
   ],
   "source": [
    "%%time\n",
    "pyro.clear_param_store()\n",
    "def model(data):\n",
    "    theta = pyro.sample('theta', dist.Beta(torch.tensor(1.0),torch.tensor(1.0)))\n",
    "    # for i in range(len(data)):\n",
    "    #     pyro.sample('y_{}'.format(i), dist.Bernoulli(theta).to_event(0), obs=data[i])\n",
    "    with pyro.plate('data', data.size()[0]):\n",
    "        pyro.sample(\"y\", dist.Bernoulli(theta), obs=data2)\n",
    "        \n",
    "def guide(data):\n",
    "    y0 = pyro.param('y0', torch.tensor(0.0), constraint=constraints.positive)\n",
    "    y1 = pyro.param('y1', torch.tensor(1.0), constraint=constraints.positive)\n",
    "    pyro.sample(\"theta\", dist.Uniform(y0, y1))"
   ]
  },
  {
   "cell_type": "code",
   "execution_count": 39,
   "id": "0360b4e6-3d23-4665-8af0-e00858caaa02",
   "metadata": {},
   "outputs": [
    {
     "name": "stderr",
     "output_type": "stream",
     "text": [
      "Sample: 100%|█████████████████████████████████████| 10000/10000 [00:21, 460.48it/s, step size=1.03e+00, acc. prob=0.918]"
     ]
    },
    {
     "name": "stdout",
     "output_type": "stream",
     "text": [
      "0.20722842\n",
      "CPU times: user 21.8 s, sys: 79.6 ms, total: 21.9 s\n",
      "Wall time: 21.7 s\n"
     ]
    },
    {
     "name": "stderr",
     "output_type": "stream",
     "text": [
      "\n"
     ]
    }
   ],
   "source": [
    "%%time\n",
    "\n",
    "nuts_kernel = NUTS(model)\n",
    "mcmc = MCMC(nuts_kernel, num_samples=5000)\n",
    "mcmc.run(data2)\n",
    "samples = mcmc.get_samples()\n",
    "\n",
    "print(samples['theta'].numpy().mean())"
   ]
  }
 ],
 "metadata": {
  "kernelspec": {
   "display_name": "Python 3",
   "language": "python",
   "name": "python3"
  },
  "language_info": {
   "codemirror_mode": {
    "name": "ipython",
    "version": 3
   },
   "file_extension": ".py",
   "mimetype": "text/x-python",
   "name": "python",
   "nbconvert_exporter": "python",
   "pygments_lexer": "ipython3",
   "version": "3.7.13"
  }
 },
 "nbformat": 4,
 "nbformat_minor": 5
}
