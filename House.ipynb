{
 "cells": [
  {
   "cell_type": "code",
   "execution_count": 518,
   "id": "46a3ce5a",
   "metadata": {},
   "outputs": [],
   "source": [
    "import pandas as pd\n",
    "import numpy as np\n",
    "import matplotlib.pyplot as plt\n",
    "\n",
    "from sklearn.linear_model import LogisticRegression\n",
    "from sklearn.svm import SVC, LinearSVC\n",
    "from sklearn.ensemble import RandomForestClassifier\n",
    "from sklearn.neighbors import KNeighborsClassifier\n",
    "from sklearn.naive_bayes import GaussianNB\n",
    "from sklearn.linear_model import Perceptron\n",
    "from sklearn.linear_model import SGDClassifier\n",
    "from sklearn.tree import DecisionTreeClassifier\n",
    "from sklearn.model_selection import cross_val_score, train_test_split, KFold\n",
    "\n",
    "from sklearn.preprocessing import StandardScaler"
   ]
  },
  {
   "cell_type": "code",
   "execution_count": 499,
   "id": "10f2ca5c",
   "metadata": {},
   "outputs": [],
   "source": [
    "train = pd.read_csv('train.csv')\n",
    "test = pd.read_csv('test.csv')"
   ]
  },
  {
   "cell_type": "code",
   "execution_count": 500,
   "id": "f3793342",
   "metadata": {},
   "outputs": [],
   "source": [
    "train['MSSubClass'] = train['MSSubClass'].astype('category').cat.codes\n",
    "test['MSSubClass'] = test['MSSubClass'].astype('category').cat.codes\n",
    "\n",
    "train['OverallQual'] = train['OverallQual'].astype('category').cat.codes\n",
    "test['OverallQual'] = test['OverallQual'].astype('category').cat.codes\n",
    "\n",
    "train['OverallCond'] = train['OverallCond'].astype('category').cat.codes\n",
    "test['OverallCond'] = test['OverallCond'].astype('category').cat.codes\n",
    "\n",
    "train.drop(['Id'], axis=1, inplace=True)"
   ]
  },
  {
   "cell_type": "code",
   "execution_count": 501,
   "id": "0519f4a9",
   "metadata": {
    "scrolled": true
   },
   "outputs": [],
   "source": [
    "train['LotFrontage'] = train['LotFrontage'].fillna(train['LotFrontage'].mean())\n",
    "train['Alley'] = train['Alley'].fillna('None')\n",
    "train['MasVnrType'] = train['MasVnrType'].fillna('None')\n",
    "train['MasVnrArea'] = train['MasVnrArea'].fillna(train['MasVnrArea'].mean())\n",
    "train['BsmtQual'] = train['BsmtQual'].fillna('None')\n",
    "train['BsmtCond'] = train['BsmtCond'].fillna('None')\n",
    "train['BsmtExposure'] = train['BsmtExposure'].fillna('None')\n",
    "train['BsmtFinType1'] = train['BsmtFinType1'].fillna('None')\n",
    "train['BsmtFinType2'] = train['BsmtFinType2'].fillna('None')\n",
    "train['Electrical'] = train['Electrical'].fillna('SBrkr')\n",
    "train['FireplaceQu'] = train['FireplaceQu'].fillna('None')\n",
    "train['GarageType'] = train['GarageType'].fillna('None')\n",
    "train['GarageFinish'] = train['GarageFinish'].fillna('None')\n",
    "train['GarageQual'] = train['GarageQual'].fillna('None')\n",
    "train['GarageCond'] = train['GarageCond'].fillna('None')\n",
    "train['PoolQC'] = train['PoolQC'].fillna('None')\n",
    "train['Fence'] = train['Fence'].fillna('None')\n",
    "train['MiscFeature'] = train['MiscFeature'].fillna('None')\n",
    "train['GarageYrBlt'] = train['GarageYrBlt'].fillna(train['GarageYrBlt'].mean())"
   ]
  },
  {
   "cell_type": "code",
   "execution_count": 502,
   "id": "b4de585c",
   "metadata": {},
   "outputs": [],
   "source": [
    "test['MSZoning'] = test['MSZoning'].fillna('RL')\n",
    "test['LotFrontage'] = test['LotFrontage'].fillna(test['LotFrontage'].mean())\n",
    "test['Alley'] = test['Alley'].fillna('None')\n",
    "test['Utilities'] = test['Utilities'].fillna('AllPub')\n",
    "test['Exterior1st'] = test['Exterior1st'].fillna('VinylSd')\n",
    "test['Exterior2nd'] = test['Exterior2nd'].fillna('VinylSd')\n",
    "test['MasVnrType'] = test['MasVnrType'].fillna('None')\n",
    "test['MasVnrArea'] = test['MasVnrArea'].fillna(test['MasVnrArea'].mean())\n",
    "test['BsmtQual'] = test['BsmtQual'].fillna('None')\n",
    "test['BsmtCond'] = test['BsmtCond'].fillna('None')\n",
    "test['BsmtExposure'] = test['BsmtExposure'].fillna('None')\n",
    "test['BsmtFinType1'] = test['BsmtFinType1'].fillna('None')\n",
    "test['BsmtFinType2'] = test['BsmtFinType2'].fillna('None')\n",
    "test['BsmtFinSF1'] = test['BsmtFinSF1'].fillna(test['BsmtFinSF1'].mean())\n",
    "test['BsmtFinSF2'] = test['BsmtFinSF2'].fillna(test['BsmtFinSF2'].mean())\n",
    "test['BsmtUnfSF'] = test['BsmtUnfSF'].fillna(test['BsmtUnfSF'].mean())\n",
    "test['TotalBsmtSF'] = test['TotalBsmtSF'].fillna(test['TotalBsmtSF'].mean())\n",
    "test['BsmtFullBath'] = test['BsmtFullBath'].fillna(test['BsmtFullBath'].mean())\n",
    "test['BsmtHalfBath'] = test['BsmtHalfBath'].fillna(test['BsmtHalfBath'].mean())\n",
    "test['KitchenQual'] = test['KitchenQual'].fillna('TA')\n",
    "test['Functional'] = test['Functional'].fillna('Typ')\n",
    "test['FireplaceQu'] = test['FireplaceQu'].fillna('None')\n",
    "test['GarageType'] = test['GarageType'].fillna('None')\n",
    "test['GarageYrBlt'] = test['GarageYrBlt'].fillna(test['GarageYrBlt'].mean())\n",
    "test['GarageFinish'] = test['GarageFinish'].fillna('None')\n",
    "test['GarageCars'] = test['GarageCars'].fillna(test['GarageCars'].mean())\n",
    "test['GarageArea'] = test['GarageArea'].fillna(test['GarageArea'].mean())\n",
    "test['GarageQual'] = test['GarageQual'].fillna('None')\n",
    "test['GarageCond'] = test['GarageCond'].fillna('None')\n",
    "test['PoolQC'] = test['PoolQC'].fillna('None')\n",
    "test['Fence'] = test['Fence'].fillna('None')\n",
    "test['MiscFeature'] = test['MiscFeature'].fillna('None')\n",
    "test['SaleType'] = test['SaleType'].fillna('Oth')"
   ]
  },
  {
   "cell_type": "code",
   "execution_count": 503,
   "id": "3a724870",
   "metadata": {
    "scrolled": true
   },
   "outputs": [],
   "source": [
    "columns = list(train.columns.values)\n",
    "\n",
    "objcols = []\n",
    "for column in columns:\n",
    "    if train[column].dtype == 'int64' or train[column].dtype == 'float64':\n",
    "        objcols.append(column)\n",
    "        \n",
    "objcols.remove('SalePrice')"
   ]
  },
  {
   "cell_type": "code",
   "execution_count": 504,
   "id": "9b421237",
   "metadata": {},
   "outputs": [],
   "source": [
    "for objcol in objcols:\n",
    "    train[objcol] = (train[objcol] - train[objcol].mean())/train[objcol].std()\n",
    "    test[objcol] = (test[objcol] - test[objcol].mean())/test[objcol].std()"
   ]
  },
  {
   "cell_type": "code",
   "execution_count": 505,
   "id": "606ac6f7",
   "metadata": {},
   "outputs": [],
   "source": [
    "columns = list(train.columns.values)\n",
    "\n",
    "objcols = []\n",
    "for i in columns:\n",
    "    if train[i].dtype == 'object':\n",
    "        objcols.append(i)"
   ]
  },
  {
   "cell_type": "code",
   "execution_count": 506,
   "id": "1bebac01",
   "metadata": {},
   "outputs": [],
   "source": [
    "for objcol in objcols:\n",
    "    train[objcol] = train[objcol].astype('category').cat.codes\n",
    "    test[objcol] = test[objcol].astype('category').cat.codes"
   ]
  },
  {
   "cell_type": "code",
   "execution_count": 507,
   "id": "00f8daec",
   "metadata": {},
   "outputs": [
    {
     "name": "stdout",
     "output_type": "stream",
     "text": [
      "<class 'pandas.core.frame.DataFrame'>\n",
      "RangeIndex: 1460 entries, 0 to 1459\n",
      "Data columns (total 80 columns):\n",
      " #   Column         Non-Null Count  Dtype  \n",
      "---  ------         --------------  -----  \n",
      " 0   MSSubClass     1460 non-null   int8   \n",
      " 1   MSZoning       1460 non-null   int8   \n",
      " 2   LotFrontage    1460 non-null   float64\n",
      " 3   LotArea        1460 non-null   float64\n",
      " 4   Street         1460 non-null   int8   \n",
      " 5   Alley          1460 non-null   int8   \n",
      " 6   LotShape       1460 non-null   int8   \n",
      " 7   LandContour    1460 non-null   int8   \n",
      " 8   Utilities      1460 non-null   int8   \n",
      " 9   LotConfig      1460 non-null   int8   \n",
      " 10  LandSlope      1460 non-null   int8   \n",
      " 11  Neighborhood   1460 non-null   int8   \n",
      " 12  Condition1     1460 non-null   int8   \n",
      " 13  Condition2     1460 non-null   int8   \n",
      " 14  BldgType       1460 non-null   int8   \n",
      " 15  HouseStyle     1460 non-null   int8   \n",
      " 16  OverallQual    1460 non-null   int8   \n",
      " 17  OverallCond    1460 non-null   int8   \n",
      " 18  YearBuilt      1460 non-null   float64\n",
      " 19  YearRemodAdd   1460 non-null   float64\n",
      " 20  RoofStyle      1460 non-null   int8   \n",
      " 21  RoofMatl       1460 non-null   int8   \n",
      " 22  Exterior1st    1460 non-null   int8   \n",
      " 23  Exterior2nd    1460 non-null   int8   \n",
      " 24  MasVnrType     1460 non-null   int8   \n",
      " 25  MasVnrArea     1460 non-null   float64\n",
      " 26  ExterQual      1460 non-null   int8   \n",
      " 27  ExterCond      1460 non-null   int8   \n",
      " 28  Foundation     1460 non-null   int8   \n",
      " 29  BsmtQual       1460 non-null   int8   \n",
      " 30  BsmtCond       1460 non-null   int8   \n",
      " 31  BsmtExposure   1460 non-null   int8   \n",
      " 32  BsmtFinType1   1460 non-null   int8   \n",
      " 33  BsmtFinSF1     1460 non-null   float64\n",
      " 34  BsmtFinType2   1460 non-null   int8   \n",
      " 35  BsmtFinSF2     1460 non-null   float64\n",
      " 36  BsmtUnfSF      1460 non-null   float64\n",
      " 37  TotalBsmtSF    1460 non-null   float64\n",
      " 38  Heating        1460 non-null   int8   \n",
      " 39  HeatingQC      1460 non-null   int8   \n",
      " 40  CentralAir     1460 non-null   int8   \n",
      " 41  Electrical     1460 non-null   int8   \n",
      " 42  1stFlrSF       1460 non-null   float64\n",
      " 43  2ndFlrSF       1460 non-null   float64\n",
      " 44  LowQualFinSF   1460 non-null   float64\n",
      " 45  GrLivArea      1460 non-null   float64\n",
      " 46  BsmtFullBath   1460 non-null   float64\n",
      " 47  BsmtHalfBath   1460 non-null   float64\n",
      " 48  FullBath       1460 non-null   float64\n",
      " 49  HalfBath       1460 non-null   float64\n",
      " 50  BedroomAbvGr   1460 non-null   float64\n",
      " 51  KitchenAbvGr   1460 non-null   float64\n",
      " 52  KitchenQual    1460 non-null   int8   \n",
      " 53  TotRmsAbvGrd   1460 non-null   float64\n",
      " 54  Functional     1460 non-null   int8   \n",
      " 55  Fireplaces     1460 non-null   float64\n",
      " 56  FireplaceQu    1460 non-null   int8   \n",
      " 57  GarageType     1460 non-null   int8   \n",
      " 58  GarageYrBlt    1460 non-null   float64\n",
      " 59  GarageFinish   1460 non-null   int8   \n",
      " 60  GarageCars     1460 non-null   float64\n",
      " 61  GarageArea     1460 non-null   float64\n",
      " 62  GarageQual     1460 non-null   int8   \n",
      " 63  GarageCond     1460 non-null   int8   \n",
      " 64  PavedDrive     1460 non-null   int8   \n",
      " 65  WoodDeckSF     1460 non-null   float64\n",
      " 66  OpenPorchSF    1460 non-null   float64\n",
      " 67  EnclosedPorch  1460 non-null   float64\n",
      " 68  3SsnPorch      1460 non-null   float64\n",
      " 69  ScreenPorch    1460 non-null   float64\n",
      " 70  PoolArea       1460 non-null   float64\n",
      " 71  PoolQC         1460 non-null   int8   \n",
      " 72  Fence          1460 non-null   int8   \n",
      " 73  MiscFeature    1460 non-null   int8   \n",
      " 74  MiscVal        1460 non-null   float64\n",
      " 75  MoSold         1460 non-null   float64\n",
      " 76  YrSold         1460 non-null   float64\n",
      " 77  SaleType       1460 non-null   int8   \n",
      " 78  SaleCondition  1460 non-null   int8   \n",
      " 79  SalePrice      1460 non-null   int64  \n",
      "dtypes: float64(33), int64(1), int8(46)\n",
      "memory usage: 453.5 KB\n"
     ]
    }
   ],
   "source": [
    "train.info()"
   ]
  },
  {
   "cell_type": "code",
   "execution_count": 508,
   "id": "14836c05",
   "metadata": {},
   "outputs": [
    {
     "data": {
      "text/plain": [
       "((1460, 79), (1460,), (1459, 79))"
      ]
     },
     "execution_count": 508,
     "metadata": {},
     "output_type": "execute_result"
    }
   ],
   "source": [
    "X_train = train.drop(['SalePrice'], axis=1).copy()\n",
    "y_train = train['SalePrice']\n",
    "X_test = test.drop(['Id'], axis=1).copy()\n",
    "\n",
    "X_train.shape, y_train.shape, X_test.shape"
   ]
  },
  {
   "cell_type": "code",
   "execution_count": 509,
   "id": "b662f133",
   "metadata": {},
   "outputs": [
    {
     "name": "stderr",
     "output_type": "stream",
     "text": [
      "C:\\ProgramData\\Anaconda3\\lib\\site-packages\\sklearn\\linear_model\\_logistic.py:763: ConvergenceWarning: lbfgs failed to converge (status=1):\n",
      "STOP: TOTAL NO. of ITERATIONS REACHED LIMIT.\n",
      "\n",
      "Increase the number of iterations (max_iter) or scale the data as shown in:\n",
      "    https://scikit-learn.org/stable/modules/preprocessing.html\n",
      "Please also refer to the documentation for alternative solver options:\n",
      "    https://scikit-learn.org/stable/modules/linear_model.html#logistic-regression\n",
      "  n_iter_i = _check_optimize_result(\n"
     ]
    },
    {
     "data": {
      "text/plain": [
       "95.62"
      ]
     },
     "execution_count": 509,
     "metadata": {},
     "output_type": "execute_result"
    }
   ],
   "source": [
    "logreg = LogisticRegression()\n",
    "logreg.fit(X_train, y_train)\n",
    "logreg_preds = logreg.predict(X_test)\n",
    " \n",
    "acc_log = round(logreg.score(X_train, y_train) * 100, 2)\n",
    "acc_log"
   ]
  },
  {
   "cell_type": "code",
   "execution_count": 514,
   "id": "346afc5b",
   "metadata": {},
   "outputs": [
    {
     "data": {
      "text/plain": [
       "100.0"
      ]
     },
     "execution_count": 514,
     "metadata": {},
     "output_type": "execute_result"
    }
   ],
   "source": [
    "random_forest = RandomForestClassifier(n_estimators=300)\n",
    "random_forest.fit(X_train, y_train)\n",
    "randomforest_pred = random_forest.predict(X_test)\n",
    "random_forest.score(X_train, y_train)\n",
    "\n",
    "acc_random_forest = round(random_forest.score(X_train, y_train) * 100, 2)\n",
    "acc_random_forest"
   ]
  },
  {
   "cell_type": "code",
   "execution_count": 512,
   "id": "cd21036c",
   "metadata": {},
   "outputs": [],
   "source": [
    "submission_1 = pd.DataFrame({\n",
    "        \"Id\": test[\"Id\"],\n",
    "        \"SalePrice\": randomforest_pred\n",
    "    })\n",
    "submission_1.to_csv(\"./submission_1.csv\",index=False)"
   ]
  },
  {
   "cell_type": "code",
   "execution_count": 515,
   "id": "c6423ecf",
   "metadata": {},
   "outputs": [],
   "source": [
    "submission_2 = pd.DataFrame({\n",
    "        \"Id\": test[\"Id\"],\n",
    "        \"SalePrice\": logreg_preds\n",
    "    })\n",
    "submission_2.to_csv(\"./submission_2.csv\",index=False)"
   ]
  },
  {
   "cell_type": "code",
   "execution_count": 521,
   "id": "79dd96c8",
   "metadata": {},
   "outputs": [
    {
     "name": "stderr",
     "output_type": "stream",
     "text": [
      "C:\\ProgramData\\Anaconda3\\lib\\site-packages\\sklearn\\model_selection\\_split.py:666: UserWarning: The least populated class in y has only 1 members, which is less than n_splits=10.\n",
      "  warnings.warn((\"The least populated class in y has only %d\"\n",
      "C:\\ProgramData\\Anaconda3\\lib\\site-packages\\sklearn\\linear_model\\_logistic.py:763: ConvergenceWarning: lbfgs failed to converge (status=1):\n",
      "STOP: TOTAL NO. of ITERATIONS REACHED LIMIT.\n",
      "\n",
      "Increase the number of iterations (max_iter) or scale the data as shown in:\n",
      "    https://scikit-learn.org/stable/modules/preprocessing.html\n",
      "Please also refer to the documentation for alternative solver options:\n",
      "    https://scikit-learn.org/stable/modules/linear_model.html#logistic-regression\n",
      "  n_iter_i = _check_optimize_result(\n",
      "C:\\ProgramData\\Anaconda3\\lib\\site-packages\\sklearn\\linear_model\\_logistic.py:763: ConvergenceWarning: lbfgs failed to converge (status=1):\n",
      "STOP: TOTAL NO. of ITERATIONS REACHED LIMIT.\n",
      "\n",
      "Increase the number of iterations (max_iter) or scale the data as shown in:\n",
      "    https://scikit-learn.org/stable/modules/preprocessing.html\n",
      "Please also refer to the documentation for alternative solver options:\n",
      "    https://scikit-learn.org/stable/modules/linear_model.html#logistic-regression\n",
      "  n_iter_i = _check_optimize_result(\n",
      "C:\\ProgramData\\Anaconda3\\lib\\site-packages\\sklearn\\linear_model\\_logistic.py:763: ConvergenceWarning: lbfgs failed to converge (status=1):\n",
      "STOP: TOTAL NO. of ITERATIONS REACHED LIMIT.\n",
      "\n",
      "Increase the number of iterations (max_iter) or scale the data as shown in:\n",
      "    https://scikit-learn.org/stable/modules/preprocessing.html\n",
      "Please also refer to the documentation for alternative solver options:\n",
      "    https://scikit-learn.org/stable/modules/linear_model.html#logistic-regression\n",
      "  n_iter_i = _check_optimize_result(\n",
      "C:\\ProgramData\\Anaconda3\\lib\\site-packages\\sklearn\\linear_model\\_logistic.py:763: ConvergenceWarning: lbfgs failed to converge (status=1):\n",
      "STOP: TOTAL NO. of ITERATIONS REACHED LIMIT.\n",
      "\n",
      "Increase the number of iterations (max_iter) or scale the data as shown in:\n",
      "    https://scikit-learn.org/stable/modules/preprocessing.html\n",
      "Please also refer to the documentation for alternative solver options:\n",
      "    https://scikit-learn.org/stable/modules/linear_model.html#logistic-regression\n",
      "  n_iter_i = _check_optimize_result(\n",
      "C:\\ProgramData\\Anaconda3\\lib\\site-packages\\sklearn\\linear_model\\_logistic.py:763: ConvergenceWarning: lbfgs failed to converge (status=1):\n",
      "STOP: TOTAL NO. of ITERATIONS REACHED LIMIT.\n",
      "\n",
      "Increase the number of iterations (max_iter) or scale the data as shown in:\n",
      "    https://scikit-learn.org/stable/modules/preprocessing.html\n",
      "Please also refer to the documentation for alternative solver options:\n",
      "    https://scikit-learn.org/stable/modules/linear_model.html#logistic-regression\n",
      "  n_iter_i = _check_optimize_result(\n",
      "C:\\ProgramData\\Anaconda3\\lib\\site-packages\\sklearn\\linear_model\\_logistic.py:763: ConvergenceWarning: lbfgs failed to converge (status=1):\n",
      "STOP: TOTAL NO. of ITERATIONS REACHED LIMIT.\n",
      "\n",
      "Increase the number of iterations (max_iter) or scale the data as shown in:\n",
      "    https://scikit-learn.org/stable/modules/preprocessing.html\n",
      "Please also refer to the documentation for alternative solver options:\n",
      "    https://scikit-learn.org/stable/modules/linear_model.html#logistic-regression\n",
      "  n_iter_i = _check_optimize_result(\n",
      "C:\\ProgramData\\Anaconda3\\lib\\site-packages\\sklearn\\linear_model\\_logistic.py:763: ConvergenceWarning: lbfgs failed to converge (status=1):\n",
      "STOP: TOTAL NO. of ITERATIONS REACHED LIMIT.\n",
      "\n",
      "Increase the number of iterations (max_iter) or scale the data as shown in:\n",
      "    https://scikit-learn.org/stable/modules/preprocessing.html\n",
      "Please also refer to the documentation for alternative solver options:\n",
      "    https://scikit-learn.org/stable/modules/linear_model.html#logistic-regression\n",
      "  n_iter_i = _check_optimize_result(\n",
      "C:\\ProgramData\\Anaconda3\\lib\\site-packages\\sklearn\\linear_model\\_logistic.py:763: ConvergenceWarning: lbfgs failed to converge (status=1):\n",
      "STOP: TOTAL NO. of ITERATIONS REACHED LIMIT.\n",
      "\n",
      "Increase the number of iterations (max_iter) or scale the data as shown in:\n",
      "    https://scikit-learn.org/stable/modules/preprocessing.html\n",
      "Please also refer to the documentation for alternative solver options:\n",
      "    https://scikit-learn.org/stable/modules/linear_model.html#logistic-regression\n",
      "  n_iter_i = _check_optimize_result(\n",
      "C:\\ProgramData\\Anaconda3\\lib\\site-packages\\sklearn\\linear_model\\_logistic.py:763: ConvergenceWarning: lbfgs failed to converge (status=1):\n",
      "STOP: TOTAL NO. of ITERATIONS REACHED LIMIT.\n",
      "\n",
      "Increase the number of iterations (max_iter) or scale the data as shown in:\n",
      "    https://scikit-learn.org/stable/modules/preprocessing.html\n",
      "Please also refer to the documentation for alternative solver options:\n",
      "    https://scikit-learn.org/stable/modules/linear_model.html#logistic-regression\n",
      "  n_iter_i = _check_optimize_result(\n",
      "C:\\ProgramData\\Anaconda3\\lib\\site-packages\\sklearn\\linear_model\\_logistic.py:763: ConvergenceWarning: lbfgs failed to converge (status=1):\n",
      "STOP: TOTAL NO. of ITERATIONS REACHED LIMIT.\n",
      "\n",
      "Increase the number of iterations (max_iter) or scale the data as shown in:\n",
      "    https://scikit-learn.org/stable/modules/preprocessing.html\n",
      "Please also refer to the documentation for alternative solver options:\n",
      "    https://scikit-learn.org/stable/modules/linear_model.html#logistic-regression\n",
      "  n_iter_i = _check_optimize_result(\n"
     ]
    },
    {
     "data": {
      "text/plain": [
       "51641.78154924248"
      ]
     },
     "execution_count": 521,
     "metadata": {},
     "output_type": "execute_result"
    }
   ],
   "source": [
    "n_folds = 10\n",
    "def rmse_cv(model):\n",
    "    kf = KFold(n_folds, shuffle=True, random_state=42).get_n_splits(X_train.values)\n",
    "    rmse= np.sqrt(-cross_val_score(model, X_train.values, y_train, scoring=\"neg_mean_squared_error\", cv = kf))\n",
    "    return(rmse)\n",
    "\n",
    "rmse_cv(logreg).mean()"
   ]
  },
  {
   "cell_type": "code",
   "execution_count": null,
   "id": "55ad65bc",
   "metadata": {},
   "outputs": [],
   "source": []
  }
 ],
 "metadata": {
  "kernelspec": {
   "display_name": "Python 3",
   "language": "python",
   "name": "python3"
  },
  "language_info": {
   "codemirror_mode": {
    "name": "ipython",
    "version": 3
   },
   "file_extension": ".py",
   "mimetype": "text/x-python",
   "name": "python",
   "nbconvert_exporter": "python",
   "pygments_lexer": "ipython3",
   "version": "3.8.8"
  }
 },
 "nbformat": 4,
 "nbformat_minor": 5
}
